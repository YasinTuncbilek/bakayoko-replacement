{
 "cells": [
  {
   "cell_type": "markdown",
   "id": "d01400f7",
   "metadata": {},
   "source": [
    "# Analysis: Bakayoko replacement"
   ]
  },
  {
   "cell_type": "markdown",
   "id": "81ceb33b",
   "metadata": {},
   "source": [
    "Analysis: Bakayoko replacement \\\n",
    "Name: Yasin Tunçbilek \\\n",
    "Date: 9 February 2024"
   ]
  },
  {
   "cell_type": "markdown",
   "id": "0931d652",
   "metadata": {},
   "source": [
    "## Packages"
   ]
  },
  {
   "cell_type": "markdown",
   "id": "971ab734",
   "metadata": {},
   "source": [
    "Library to send HTTP requests"
   ]
  },
  {
   "cell_type": "code",
   "execution_count": 3,
   "id": "d335d9ac",
   "metadata": {},
   "outputs": [],
   "source": [
    "import requests"
   ]
  },
  {
   "cell_type": "markdown",
   "id": "b4a5de42",
   "metadata": {},
   "source": [
    "Library to parse HTML"
   ]
  },
  {
   "cell_type": "code",
   "execution_count": 4,
   "id": "b99e96dd",
   "metadata": {},
   "outputs": [],
   "source": [
    "from bs4 import BeautifulSoup"
   ]
  },
  {
   "cell_type": "markdown",
   "id": "f0336a5e",
   "metadata": {},
   "source": [
    "Library to deal with various types of I/O. Needed because read_html gives an error."
   ]
  },
  {
   "cell_type": "code",
   "execution_count": 5,
   "id": "fcd2eab9",
   "metadata": {},
   "outputs": [],
   "source": [
    "from io import StringIO"
   ]
  },
  {
   "cell_type": "markdown",
   "id": "54a6d794",
   "metadata": {},
   "source": [
    "Pandas library for data analysis and manipulation"
   ]
  },
  {
   "cell_type": "code",
   "execution_count": 6,
   "id": "1f061c8b",
   "metadata": {},
   "outputs": [],
   "source": [
    "import pandas as pd"
   ]
  },
  {
   "cell_type": "markdown",
   "id": "80855efb",
   "metadata": {},
   "source": [
    "## Player stats"
   ]
  },
  {
   "cell_type": "markdown",
   "id": "57fa50e9",
   "metadata": {},
   "source": [
    "### URLs to stats"
   ]
  },
  {
   "cell_type": "markdown",
   "id": "bba34de5",
   "metadata": {},
   "source": [
    "URL of a competition where stats reside in"
   ]
  },
  {
   "cell_type": "code",
   "execution_count": 7,
   "id": "b724c986",
   "metadata": {},
   "outputs": [],
   "source": [
    "competition_url = \"https://fbref.com/en/comps/23/2023-2024/stats/2023-2024-Eredivisie-Stats\""
   ]
  },
  {
   "cell_type": "markdown",
   "id": "8fcc3ec3",
   "metadata": {},
   "source": [
    "Download HTML of competition page"
   ]
  },
  {
   "cell_type": "code",
   "execution_count": 10,
   "id": "43a538d3",
   "metadata": {},
   "outputs": [],
   "source": [
    "data = requests.get(competition_url)"
   ]
  },
  {
   "cell_type": "markdown",
   "id": "a37feb13",
   "metadata": {},
   "source": [
    "Initialise library with downloaded HTML"
   ]
  },
  {
   "cell_type": "code",
   "execution_count": 14,
   "id": "484abf6d",
   "metadata": {},
   "outputs": [],
   "source": [
    "soup = BeautifulSoup(data.text)"
   ]
  },
  {
   "cell_type": "markdown",
   "id": "1863b29c",
   "metadata": {},
   "source": [
    "Select menu where URLs to various stats reside in"
   ]
  },
  {
   "cell_type": "code",
   "execution_count": 20,
   "id": "e6835e3a",
   "metadata": {},
   "outputs": [],
   "source": [
    "menu_stats = soup.select('li.full.hasmore')[0]"
   ]
  },
  {
   "cell_type": "markdown",
   "id": "b2808c5b",
   "metadata": {},
   "source": [
    "Find all tags where URLs to various stats reside in"
   ]
  },
  {
   "cell_type": "code",
   "execution_count": 22,
   "id": "91ec91a8",
   "metadata": {},
   "outputs": [],
   "source": [
    "urls_stats = menu_stats.find_all('a')"
   ]
  },
  {
   "cell_type": "markdown",
   "id": "ac226d64",
   "metadata": {},
   "source": [
    "Get href property of each link"
   ]
  },
  {
   "cell_type": "code",
   "execution_count": 24,
   "id": "6c57ba61",
   "metadata": {},
   "outputs": [],
   "source": [
    "urls_stats = [u.get(\"href\") for u in urls_stats]"
   ]
  },
  {
   "cell_type": "markdown",
   "id": "4473cd0b",
   "metadata": {},
   "source": [
    "Make full URLs"
   ]
  },
  {
   "cell_type": "code",
   "execution_count": 26,
   "id": "c237e3d8",
   "metadata": {},
   "outputs": [],
   "source": [
    "urls_stats = [f\"https://fbref.com{l}\" for l in urls_stats]"
   ]
  },
  {
   "cell_type": "markdown",
   "metadata": {},
   "source": [
    "Print list of URLS where various stats reside in"
   ]
  },
  {
   "cell_type": "code",
   "execution_count": 27,
   "id": "abc5d780",
   "metadata": {},
   "outputs": [
    {
     "data": {
      "text/plain": [
       "['https://fbref.com/en/comps/23/2023-2024/stats/2023-2024-Eredivisie-Stats',\n",
       " 'https://fbref.com/en/comps/23/2023-2024/keepers/2023-2024-Eredivisie-Stats',\n",
       " 'https://fbref.com/en/comps/23/2023-2024/keepersadv/2023-2024-Eredivisie-Stats',\n",
       " 'https://fbref.com/en/comps/23/2023-2024/shooting/2023-2024-Eredivisie-Stats',\n",
       " 'https://fbref.com/en/comps/23/2023-2024/passing/2023-2024-Eredivisie-Stats',\n",
       " 'https://fbref.com/en/comps/23/2023-2024/passing_types/2023-2024-Eredivisie-Stats',\n",
       " 'https://fbref.com/en/comps/23/2023-2024/gca/2023-2024-Eredivisie-Stats',\n",
       " 'https://fbref.com/en/comps/23/2023-2024/defense/2023-2024-Eredivisie-Stats',\n",
       " 'https://fbref.com/en/comps/23/2023-2024/possession/2023-2024-Eredivisie-Stats',\n",
       " 'https://fbref.com/en/comps/23/2023-2024/playingtime/2023-2024-Eredivisie-Stats',\n",
       " 'https://fbref.com/en/comps/23/2023-2024/misc/2023-2024-Eredivisie-Stats']"
      ]
     },
     "execution_count": 27,
     "metadata": {},
     "output_type": "execute_result"
    }
   ],
   "source": [
    "urls_stats"
   ]
  },
  {
   "cell_type": "markdown",
   "id": "eeeec47d",
   "metadata": {},
   "source": [
    "### Standard stats"
   ]
  },
  {
   "cell_type": "markdown",
   "id": "4ca6f7d8",
   "metadata": {},
   "source": [
    "URL of standard stats"
   ]
  },
  {
   "cell_type": "code",
   "execution_count": 29,
   "id": "c36c9867",
   "metadata": {},
   "outputs": [],
   "source": [
    "standard_url = urls_stats[0]"
   ]
  },
  {
   "cell_type": "markdown",
   "id": "9b4d76a3",
   "metadata": {},
   "source": [
    "Download HTML of standard stats page. Player table is commented out and therefore not retrievable. Therefore a replace."
   ]
  },
  {
   "cell_type": "code",
   "execution_count": 39,
   "id": "d3ca8911",
   "metadata": {},
   "outputs": [],
   "source": [
    "players_standard_data = requests.get(standard_url).text.replace('<!--','').replace('-->','')"
   ]
  },
  {
   "cell_type": "markdown",
   "id": "20c8e722",
   "metadata": {},
   "source": [
    "Wrap in a 'StringIO' object to read from a literal string"
   ]
  },
  {
   "cell_type": "code",
   "execution_count": 40,
   "id": "a8d6dddd",
   "metadata": {},
   "outputs": [],
   "source": [
    "players_standard_data = StringIO(players_standard_data)"
   ]
  },
  {
   "cell_type": "markdown",
   "id": "4bcb4e74",
   "metadata": {},
   "source": [
    "Create dataframe of player standard stats"
   ]
  },
  {
   "cell_type": "code",
   "execution_count": 41,
   "id": "806091e7",
   "metadata": {},
   "outputs": [],
   "source": [
    "players_standard_stats = pd.read_html(players_standard_data, attrs = {'id':'stats_standard'})[0]"
   ]
  },
  {
   "cell_type": "markdown",
   "id": "44c3652d",
   "metadata": {},
   "source": [
    "Drop the first level of the dataframe"
   ]
  },
  {
   "cell_type": "code",
   "execution_count": 42,
   "id": "f56b2a2c",
   "metadata": {},
   "outputs": [],
   "source": [
    "players_standard_stats.columns = players_standard_stats.columns.droplevel()"
   ]
  },
  {
   "cell_type": "markdown",
   "id": "eb8b20c6",
   "metadata": {},
   "source": [
    "Drop rows where column names occur because of the 'folded' table"
   ]
  },
  {
   "cell_type": "code",
   "execution_count": 43,
   "id": "d6f8d4d6",
   "metadata": {},
   "outputs": [],
   "source": [
    "players_standard_stats = players_standard_stats.loc[players_standard_stats['Player'] != 'Player']"
   ]
  },
  {
   "cell_type": "markdown",
   "id": "8041ba12",
   "metadata": {},
   "source": [
    "Keep only relevant columns"
   ]
  },
  {
   "cell_type": "code",
   "execution_count": 44,
   "id": "6de1913c",
   "metadata": {},
   "outputs": [],
   "source": [
    "players_standard_stats = players_standard_stats[[\"Player\", \"Nation\", \"Pos\", \"Squad\", \"Age\", \"Min\", \"90s\"]]"
   ]
  },
  {
   "cell_type": "markdown",
   "id": "fdd30a39",
   "metadata": {},
   "source": [
    "Print first rows of dataframe"
   ]
  },
  {
   "cell_type": "code",
   "execution_count": 45,
   "id": "1a665479",
   "metadata": {},
   "outputs": [
    {
     "data": {
      "text/html": [
       "<div>\n",
       "<style scoped>\n",
       "    .dataframe tbody tr th:only-of-type {\n",
       "        vertical-align: middle;\n",
       "    }\n",
       "\n",
       "    .dataframe tbody tr th {\n",
       "        vertical-align: top;\n",
       "    }\n",
       "\n",
       "    .dataframe thead th {\n",
       "        text-align: right;\n",
       "    }\n",
       "</style>\n",
       "<table border=\"1\" class=\"dataframe\">\n",
       "  <thead>\n",
       "    <tr style=\"text-align: right;\">\n",
       "      <th></th>\n",
       "      <th>Player</th>\n",
       "      <th>Nation</th>\n",
       "      <th>Pos</th>\n",
       "      <th>Squad</th>\n",
       "      <th>Age</th>\n",
       "      <th>Min</th>\n",
       "      <th>90s</th>\n",
       "    </tr>\n",
       "  </thead>\n",
       "  <tbody>\n",
       "    <tr>\n",
       "      <th>0</th>\n",
       "      <td>Patrick van Aanholt</td>\n",
       "      <td>nl NED</td>\n",
       "      <td>DF</td>\n",
       "      <td>PSV Eindhoven</td>\n",
       "      <td>32</td>\n",
       "      <td>1114</td>\n",
       "      <td>12.4</td>\n",
       "    </tr>\n",
       "    <tr>\n",
       "      <th>1</th>\n",
       "      <td>Paxten Aaronson</td>\n",
       "      <td>us USA</td>\n",
       "      <td>MF</td>\n",
       "      <td>Vitesse</td>\n",
       "      <td>19</td>\n",
       "      <td>1253</td>\n",
       "      <td>13.9</td>\n",
       "    </tr>\n",
       "    <tr>\n",
       "      <th>2</th>\n",
       "      <td>Jayden Addai</td>\n",
       "      <td>nl NED</td>\n",
       "      <td>FW</td>\n",
       "      <td>AZ Alkmaar</td>\n",
       "      <td>17</td>\n",
       "      <td>297</td>\n",
       "      <td>3.3</td>\n",
       "    </tr>\n",
       "    <tr>\n",
       "      <th>3</th>\n",
       "      <td>Bobby Adekanye</td>\n",
       "      <td>nl NED</td>\n",
       "      <td>FW</td>\n",
       "      <td>Go Ahead Eag</td>\n",
       "      <td>24</td>\n",
       "      <td>1804</td>\n",
       "      <td>20.0</td>\n",
       "    </tr>\n",
       "    <tr>\n",
       "      <th>4</th>\n",
       "      <td>Shawn Adewoye</td>\n",
       "      <td>be BEL</td>\n",
       "      <td>DF</td>\n",
       "      <td>RKC Waalwijk</td>\n",
       "      <td>23</td>\n",
       "      <td>2338</td>\n",
       "      <td>26.0</td>\n",
       "    </tr>\n",
       "  </tbody>\n",
       "</table>\n",
       "</div>"
      ],
      "text/plain": [
       "                Player  Nation Pos          Squad Age   Min   90s\n",
       "0  Patrick van Aanholt  nl NED  DF  PSV Eindhoven  32  1114  12.4\n",
       "1      Paxten Aaronson  us USA  MF        Vitesse  19  1253  13.9\n",
       "2         Jayden Addai  nl NED  FW     AZ Alkmaar  17   297   3.3\n",
       "3       Bobby Adekanye  nl NED  FW   Go Ahead Eag  24  1804  20.0\n",
       "4        Shawn Adewoye  be BEL  DF   RKC Waalwijk  23  2338  26.0"
      ]
     },
     "execution_count": 45,
     "metadata": {},
     "output_type": "execute_result"
    }
   ],
   "source": [
    "players_standard_stats.head()"
   ]
  },
  {
   "cell_type": "markdown",
   "id": "a92d2de0",
   "metadata": {},
   "source": [
    "### Shooting stats"
   ]
  },
  {
   "cell_type": "markdown",
   "id": "d494ce4a",
   "metadata": {},
   "source": [
    "URL of shooting stats"
   ]
  },
  {
   "cell_type": "code",
   "execution_count": 46,
   "id": "0fcfaf6a",
   "metadata": {},
   "outputs": [],
   "source": [
    "shooting_url = urls_stats[3]"
   ]
  },
  {
   "cell_type": "markdown",
   "id": "35f25046",
   "metadata": {},
   "source": [
    "Download HTML of shooting page. Table is commented out. Therefore a replace."
   ]
  },
  {
   "cell_type": "code",
   "execution_count": 47,
   "id": "9109134a",
   "metadata": {},
   "outputs": [],
   "source": [
    "players_shooting_data = requests.get(shooting_url).text.replace('<!--','').replace('-->','')"
   ]
  },
  {
   "cell_type": "markdown",
   "id": "4dcbf604",
   "metadata": {},
   "source": [
    "## Competitions"
   ]
  },
  {
   "cell_type": "code",
   "execution_count": 5,
   "id": "f6778983",
   "metadata": {},
   "outputs": [],
   "source": [
    "# List of competitions with advanced data from Opta for the analysis\n",
    "list_competitions = [\"https://fbref.com/en/comps/9/Premier-League-Stats\",\n",
    "                    \"https://fbref.com/en/comps/12/La-Liga-Stats\",\n",
    "                    \"https://fbref.com/en/comps/11/Serie-A-Stats\",\n",
    "                    \"https://fbref.com/en/comps/20/Bundesliga-Stats\",\n",
    "                    \"https://fbref.com/en/comps/13/Ligue-1-Stats\",\n",
    "                    \"https://fbref.com/en/comps/10/Championship-Stats\",\n",
    "                    \"https://fbref.com/en/comps/23/Eredivisie-Stats\",\n",
    "                    \"https://fbref.com/en/comps/22/Major-League-Soccer-Stats\",\n",
    "                    \"https://fbref.com/en/comps/32/Primeira-Liga-Stats\",\n",
    "                    \"https://fbref.com/en/comps/24/Serie-A-Stats\",\n",
    "                    \"https://fbref.com/en/comps/31/Liga-MX-Stats\",\n",
    "                    \"https://fbref.com/en/comps/37/Belgian-Pro-League-Stats\",\n",
    "                    \"https://fbref.com/en/comps/17/Segunda-Division-Stats\",\n",
    "                    \"https://fbref.com/en/comps/60/Ligue-2-Stats\",\n",
    "                    \"https://fbref.com/en/comps/33/2-Bundesliga-Stats\",\n",
    "                    \"https://fbref.com/en/comps/18/Serie-B-Stats\",\n",
    "                    \"https://fbref.com/en/comps/21/Primera-Division-Stats\"]"
   ]
  },
  {
   "cell_type": "code",
   "execution_count": 6,
   "id": "8fc3208d",
   "metadata": {},
   "outputs": [],
   "source": [
    "# URL of a competition where stats reside in\n",
    "competition_url = list_competitions[0]"
   ]
  },
  {
   "cell_type": "markdown",
   "id": "ef705615",
   "metadata": {},
   "source": [
    "### Shooting stats"
   ]
  },
  {
   "cell_type": "code",
   "execution_count": 23,
   "id": "f4d719d0",
   "metadata": {},
   "outputs": [],
   "source": [
    "# URL of shooting stats\n",
    "shooting_url = urls_stats[3]"
   ]
  },
  {
   "cell_type": "code",
   "execution_count": 24,
   "id": "f8b6e6da",
   "metadata": {},
   "outputs": [],
   "source": [
    "# Download HTML of shooting page. Table is commented out. Therefore a replace.\n",
    "data_players = requests.get(shooting_url).text.replace('<!--','').replace('-->','')"
   ]
  },
  {
   "cell_type": "code",
   "execution_count": 25,
   "id": "f9188720",
   "metadata": {},
   "outputs": [],
   "source": [
    "# Wrap in a 'StringIO' object to read from a literal string\n",
    "data_players = StringIO(data_players)"
   ]
  },
  {
   "cell_type": "code",
   "execution_count": 27,
   "id": "c0edf8a3",
   "metadata": {},
   "outputs": [],
   "source": [
    "# Create dataframe of player shooting stats\n",
    "player_shooting_stats = pd.read_html(data_players, attrs = {'id':'stats_shooting'})[0]"
   ]
  },
  {
   "cell_type": "code",
   "execution_count": 28,
   "id": "b61b20b8",
   "metadata": {},
   "outputs": [],
   "source": [
    "# Drop the first level of the dataframe\n",
    "player_shooting_stats.columns = player_shooting_stats.columns.droplevel()"
   ]
  },
  {
   "cell_type": "code",
   "execution_count": 29,
   "id": "3b988629",
   "metadata": {},
   "outputs": [],
   "source": [
    "# Drop rows where column names occur because of the 'folded' table\n",
    "player_shooting_stats = player_shooting_stats.loc[player_shooting_stats['Player'] != 'Player']"
   ]
  },
  {
   "cell_type": "code",
   "execution_count": 33,
   "id": "50fb96f0",
   "metadata": {},
   "outputs": [],
   "source": [
    "# Keep only relevant columns\n",
    "player_shooting_stats = player_shooting_stats[[\"Player\", \"Squad\", \"Age\", \"Sh\", \"npxG\"]]"
   ]
  },
  {
   "cell_type": "code",
   "execution_count": 35,
   "id": "13d1cdd2",
   "metadata": {},
   "outputs": [
    {
     "data": {
      "text/html": [
       "<div>\n",
       "<style scoped>\n",
       "    .dataframe tbody tr th:only-of-type {\n",
       "        vertical-align: middle;\n",
       "    }\n",
       "\n",
       "    .dataframe tbody tr th {\n",
       "        vertical-align: top;\n",
       "    }\n",
       "\n",
       "    .dataframe thead th {\n",
       "        text-align: right;\n",
       "    }\n",
       "</style>\n",
       "<table border=\"1\" class=\"dataframe\">\n",
       "  <thead>\n",
       "    <tr style=\"text-align: right;\">\n",
       "      <th></th>\n",
       "      <th>Player</th>\n",
       "      <th>Squad</th>\n",
       "      <th>Age</th>\n",
       "      <th>Sh</th>\n",
       "      <th>npxG</th>\n",
       "    </tr>\n",
       "  </thead>\n",
       "  <tbody>\n",
       "    <tr>\n",
       "      <th>0</th>\n",
       "      <td>Max Aarons</td>\n",
       "      <td>Bournemouth</td>\n",
       "      <td>24-066</td>\n",
       "      <td>1</td>\n",
       "      <td>0.0</td>\n",
       "    </tr>\n",
       "    <tr>\n",
       "      <th>1</th>\n",
       "      <td>Bénie Adama Traore</td>\n",
       "      <td>Sheffield Utd</td>\n",
       "      <td>21-101</td>\n",
       "      <td>1</td>\n",
       "      <td>0.3</td>\n",
       "    </tr>\n",
       "    <tr>\n",
       "      <th>2</th>\n",
       "      <td>Tosin Adarabioyo</td>\n",
       "      <td>Fulham</td>\n",
       "      <td>26-168</td>\n",
       "      <td>10</td>\n",
       "      <td>0.6</td>\n",
       "    </tr>\n",
       "    <tr>\n",
       "      <th>3</th>\n",
       "      <td>Elijah Adebayo</td>\n",
       "      <td>Luton Town</td>\n",
       "      <td>26-063</td>\n",
       "      <td>28</td>\n",
       "      <td>5.6</td>\n",
       "    </tr>\n",
       "    <tr>\n",
       "      <th>4</th>\n",
       "      <td>Simon Adingra</td>\n",
       "      <td>Brighton</td>\n",
       "      <td>22-069</td>\n",
       "      <td>31</td>\n",
       "      <td>3.0</td>\n",
       "    </tr>\n",
       "  </tbody>\n",
       "</table>\n",
       "</div>"
      ],
      "text/plain": [
       "               Player          Squad     Age  Sh npxG\n",
       "0          Max Aarons    Bournemouth  24-066   1  0.0\n",
       "1  Bénie Adama Traore  Sheffield Utd  21-101   1  0.3\n",
       "2    Tosin Adarabioyo         Fulham  26-168  10  0.6\n",
       "3      Elijah Adebayo     Luton Town  26-063  28  5.6\n",
       "4       Simon Adingra       Brighton  22-069  31  3.0"
      ]
     },
     "execution_count": 35,
     "metadata": {},
     "output_type": "execute_result"
    }
   ],
   "source": [
    "player_shooting_stats.head()"
   ]
  },
  {
   "cell_type": "markdown",
   "id": "c9744cde",
   "metadata": {},
   "source": [
    "### Team stats"
   ]
  },
  {
   "cell_type": "code",
   "execution_count": 357,
   "id": "4e4eed55",
   "metadata": {},
   "outputs": [],
   "source": [
    "# Download HTML of standard stats page.\n",
    "data_teams = requests.get(standard_url)"
   ]
  },
  {
   "cell_type": "code",
   "execution_count": 358,
   "id": "9fc35379",
   "metadata": {},
   "outputs": [
    {
     "name": "stderr",
     "output_type": "stream",
     "text": [
      "/var/folders/qq/jf2q9_1s1ln_cgch_rjpr1fm0000gn/T/ipykernel_96527/1474480129.py:2: FutureWarning: Passing literal html to 'read_html' is deprecated and will be removed in a future version. To read from a literal string, wrap it in a 'StringIO' object.\n",
      "  team_standard_stats = pd.read_html(data_teams.text)[0]\n"
     ]
    }
   ],
   "source": [
    "# Create dataframe of team standard stats of first table on the page. Note: could not solve StringIO error-message here.\n",
    "team_standard_stats = pd.read_html(data_teams.text)[0]"
   ]
  },
  {
   "cell_type": "code",
   "execution_count": 360,
   "id": "1a8fd404",
   "metadata": {},
   "outputs": [],
   "source": [
    "# Drop the first level of the dataframe\n",
    "team_standard_stats.columns = team_standard_stats.columns.droplevel()"
   ]
  },
  {
   "cell_type": "code",
   "execution_count": 361,
   "id": "6cc67912",
   "metadata": {},
   "outputs": [],
   "source": [
    "# Keep only relevant columns\n",
    "team_standard_stats = team_standard_stats[[\"Squad\", \"Age\", \"MP\", \"Starts\", \"Min\", \"90s\"]]"
   ]
  },
  {
   "cell_type": "code",
   "execution_count": 362,
   "id": "0867fa3f",
   "metadata": {},
   "outputs": [],
   "source": [
    "# Specify columns to add a prefix to\n",
    "cols = team_standard_stats.loc[:, team_standard_stats.columns != \"Squad\"]"
   ]
  },
  {
   "cell_type": "code",
   "execution_count": 363,
   "id": "c7a92d0a",
   "metadata": {},
   "outputs": [],
   "source": [
    "# Add \"team_\" in front of team variables to distinguish between player stats\n",
    "team_standard_stats = team_standard_stats.rename(columns = {c: 'team_' + c for c in team_standard_stats.columns if c in cols})"
   ]
  },
  {
   "cell_type": "code",
   "execution_count": 377,
   "id": "5712f40a",
   "metadata": {},
   "outputs": [
    {
     "data": {
      "text/html": [
       "<div>\n",
       "<style scoped>\n",
       "    .dataframe tbody tr th:only-of-type {\n",
       "        vertical-align: middle;\n",
       "    }\n",
       "\n",
       "    .dataframe tbody tr th {\n",
       "        vertical-align: top;\n",
       "    }\n",
       "\n",
       "    .dataframe thead th {\n",
       "        text-align: right;\n",
       "    }\n",
       "</style>\n",
       "<table border=\"1\" class=\"dataframe\">\n",
       "  <thead>\n",
       "    <tr style=\"text-align: right;\">\n",
       "      <th></th>\n",
       "      <th>Squad</th>\n",
       "      <th>team_Age</th>\n",
       "      <th>team_MP</th>\n",
       "      <th>team_Starts</th>\n",
       "      <th>team_Min</th>\n",
       "      <th>team_90s</th>\n",
       "    </tr>\n",
       "  </thead>\n",
       "  <tbody>\n",
       "    <tr>\n",
       "      <th>0</th>\n",
       "      <td>Arsenal</td>\n",
       "      <td>25.5</td>\n",
       "      <td>26</td>\n",
       "      <td>286</td>\n",
       "      <td>2340</td>\n",
       "      <td>26.0</td>\n",
       "    </tr>\n",
       "    <tr>\n",
       "      <th>1</th>\n",
       "      <td>Aston Villa</td>\n",
       "      <td>27.6</td>\n",
       "      <td>27</td>\n",
       "      <td>297</td>\n",
       "      <td>2430</td>\n",
       "      <td>27.0</td>\n",
       "    </tr>\n",
       "    <tr>\n",
       "      <th>2</th>\n",
       "      <td>Bournemouth</td>\n",
       "      <td>26.3</td>\n",
       "      <td>25</td>\n",
       "      <td>275</td>\n",
       "      <td>2250</td>\n",
       "      <td>25.0</td>\n",
       "    </tr>\n",
       "    <tr>\n",
       "      <th>3</th>\n",
       "      <td>Brentford</td>\n",
       "      <td>27.4</td>\n",
       "      <td>27</td>\n",
       "      <td>297</td>\n",
       "      <td>2430</td>\n",
       "      <td>27.0</td>\n",
       "    </tr>\n",
       "    <tr>\n",
       "      <th>4</th>\n",
       "      <td>Brighton</td>\n",
       "      <td>26.7</td>\n",
       "      <td>27</td>\n",
       "      <td>297</td>\n",
       "      <td>2430</td>\n",
       "      <td>27.0</td>\n",
       "    </tr>\n",
       "  </tbody>\n",
       "</table>\n",
       "</div>"
      ],
      "text/plain": [
       "         Squad  team_Age  team_MP  team_Starts  team_Min  team_90s\n",
       "0      Arsenal      25.5       26          286      2340      26.0\n",
       "1  Aston Villa      27.6       27          297      2430      27.0\n",
       "2  Bournemouth      26.3       25          275      2250      25.0\n",
       "3    Brentford      27.4       27          297      2430      27.0\n",
       "4     Brighton      26.7       27          297      2430      27.0"
      ]
     },
     "execution_count": 377,
     "metadata": {},
     "output_type": "execute_result"
    }
   ],
   "source": [
    "team_standard_stats.head()"
   ]
  },
  {
   "cell_type": "code",
   "execution_count": 365,
   "id": "de608368",
   "metadata": {},
   "outputs": [],
   "source": [
    "# Merge both dataframes into one dataframe\n",
    "merged_standard_stats = player_standard_stats.merge(team_standard_stats\n",
    "                            [[\"Squad\", \"team_Age\", \"team_MP\", \"team_Starts\", \"team_Min\", \"team_90s\"]], \n",
    "                                                    on = 'Squad', how = 'left')"
   ]
  },
  {
   "cell_type": "code",
   "execution_count": 376,
   "id": "67dbf21f",
   "metadata": {},
   "outputs": [
    {
     "data": {
      "text/html": [
       "<div>\n",
       "<style scoped>\n",
       "    .dataframe tbody tr th:only-of-type {\n",
       "        vertical-align: middle;\n",
       "    }\n",
       "\n",
       "    .dataframe tbody tr th {\n",
       "        vertical-align: top;\n",
       "    }\n",
       "\n",
       "    .dataframe thead th {\n",
       "        text-align: right;\n",
       "    }\n",
       "</style>\n",
       "<table border=\"1\" class=\"dataframe\">\n",
       "  <thead>\n",
       "    <tr style=\"text-align: right;\">\n",
       "      <th></th>\n",
       "      <th>Player</th>\n",
       "      <th>Nation</th>\n",
       "      <th>Pos</th>\n",
       "      <th>Squad</th>\n",
       "      <th>Age</th>\n",
       "      <th>Born</th>\n",
       "      <th>MP</th>\n",
       "      <th>Starts</th>\n",
       "      <th>Min</th>\n",
       "      <th>90s</th>\n",
       "      <th>team_Age</th>\n",
       "      <th>team_MP</th>\n",
       "      <th>team_Starts</th>\n",
       "      <th>team_Min</th>\n",
       "      <th>team_90s</th>\n",
       "    </tr>\n",
       "  </thead>\n",
       "  <tbody>\n",
       "    <tr>\n",
       "      <th>0</th>\n",
       "      <td>Max Aarons</td>\n",
       "      <td>eng ENG</td>\n",
       "      <td>DF</td>\n",
       "      <td>Bournemouth</td>\n",
       "      <td>24-059</td>\n",
       "      <td>2000</td>\n",
       "      <td>14</td>\n",
       "      <td>12</td>\n",
       "      <td>1085</td>\n",
       "      <td>12.1</td>\n",
       "      <td>26.3</td>\n",
       "      <td>25</td>\n",
       "      <td>275</td>\n",
       "      <td>2250</td>\n",
       "      <td>25.0</td>\n",
       "    </tr>\n",
       "    <tr>\n",
       "      <th>1</th>\n",
       "      <td>Bénie Adama Traore</td>\n",
       "      <td>ci CIV</td>\n",
       "      <td>FW,MF</td>\n",
       "      <td>Sheffield Utd</td>\n",
       "      <td>21-094</td>\n",
       "      <td>2002</td>\n",
       "      <td>8</td>\n",
       "      <td>3</td>\n",
       "      <td>387</td>\n",
       "      <td>4.3</td>\n",
       "      <td>26.6</td>\n",
       "      <td>26</td>\n",
       "      <td>286</td>\n",
       "      <td>2340</td>\n",
       "      <td>26.0</td>\n",
       "    </tr>\n",
       "    <tr>\n",
       "      <th>2</th>\n",
       "      <td>Tosin Adarabioyo</td>\n",
       "      <td>eng ENG</td>\n",
       "      <td>DF</td>\n",
       "      <td>Fulham</td>\n",
       "      <td>26-161</td>\n",
       "      <td>1997</td>\n",
       "      <td>13</td>\n",
       "      <td>11</td>\n",
       "      <td>993</td>\n",
       "      <td>11.0</td>\n",
       "      <td>29.3</td>\n",
       "      <td>27</td>\n",
       "      <td>297</td>\n",
       "      <td>2430</td>\n",
       "      <td>27.0</td>\n",
       "    </tr>\n",
       "    <tr>\n",
       "      <th>3</th>\n",
       "      <td>Elijah Adebayo</td>\n",
       "      <td>eng ENG</td>\n",
       "      <td>FW</td>\n",
       "      <td>Luton Town</td>\n",
       "      <td>26-056</td>\n",
       "      <td>1998</td>\n",
       "      <td>23</td>\n",
       "      <td>13</td>\n",
       "      <td>1162</td>\n",
       "      <td>12.9</td>\n",
       "      <td>27.4</td>\n",
       "      <td>26</td>\n",
       "      <td>286</td>\n",
       "      <td>2340</td>\n",
       "      <td>26.0</td>\n",
       "    </tr>\n",
       "    <tr>\n",
       "      <th>4</th>\n",
       "      <td>Simon Adingra</td>\n",
       "      <td>ci CIV</td>\n",
       "      <td>FW</td>\n",
       "      <td>Brighton</td>\n",
       "      <td>22-062</td>\n",
       "      <td>2002</td>\n",
       "      <td>20</td>\n",
       "      <td>15</td>\n",
       "      <td>1367</td>\n",
       "      <td>15.2</td>\n",
       "      <td>26.7</td>\n",
       "      <td>27</td>\n",
       "      <td>297</td>\n",
       "      <td>2430</td>\n",
       "      <td>27.0</td>\n",
       "    </tr>\n",
       "  </tbody>\n",
       "</table>\n",
       "</div>"
      ],
      "text/plain": [
       "               Player   Nation    Pos          Squad     Age  Born  MP Starts  \\\n",
       "0          Max Aarons  eng ENG     DF    Bournemouth  24-059  2000  14     12   \n",
       "1  Bénie Adama Traore   ci CIV  FW,MF  Sheffield Utd  21-094  2002   8      3   \n",
       "2    Tosin Adarabioyo  eng ENG     DF         Fulham  26-161  1997  13     11   \n",
       "3      Elijah Adebayo  eng ENG     FW     Luton Town  26-056  1998  23     13   \n",
       "4       Simon Adingra   ci CIV     FW       Brighton  22-062  2002  20     15   \n",
       "\n",
       "    Min   90s  team_Age  team_MP  team_Starts  team_Min  team_90s  \n",
       "0  1085  12.1      26.3       25          275      2250      25.0  \n",
       "1   387   4.3      26.6       26          286      2340      26.0  \n",
       "2   993  11.0      29.3       27          297      2430      27.0  \n",
       "3  1162  12.9      27.4       26          286      2340      26.0  \n",
       "4  1367  15.2      26.7       27          297      2430      27.0  "
      ]
     },
     "execution_count": 376,
     "metadata": {},
     "output_type": "execute_result"
    }
   ],
   "source": [
    "merged_standard_stats.head()"
   ]
  },
  {
   "cell_type": "markdown",
   "id": "1833be3a",
   "metadata": {},
   "source": [
    "## Shooting stats"
   ]
  },
  {
   "cell_type": "markdown",
   "id": "0cd17837",
   "metadata": {},
   "source": [
    "### Player stats"
   ]
  },
  {
   "cell_type": "code",
   "execution_count": 379,
   "id": "8525cfd6",
   "metadata": {},
   "outputs": [],
   "source": [
    "# URL of shooting stats\n",
    "shooting_url = urls_stats[3]"
   ]
  },
  {
   "cell_type": "code",
   "execution_count": 380,
   "id": "cfbd896f",
   "metadata": {},
   "outputs": [],
   "source": [
    "# Download HTML of shooting page. Table is commented out. Therefore a replace.\n",
    "data_players = requests.get(shooting_url).text.replace('<!--','').replace('-->','')"
   ]
  },
  {
   "cell_type": "code",
   "execution_count": 369,
   "id": "97ed62bd",
   "metadata": {},
   "outputs": [],
   "source": [
    "# Wrap in a 'StringIO' object to read from a literal string\n",
    "data_players = StringIO(data_players)"
   ]
  },
  {
   "cell_type": "code",
   "execution_count": 381,
   "id": "c3545d68",
   "metadata": {
    "scrolled": false
   },
   "outputs": [],
   "source": [
    "# Create dataframe of player shooting stats\n",
    "player_shooting_stats = pd.read_html(data, attrs = {'id':'stats_shooting'})[0]"
   ]
  },
  {
   "cell_type": "code",
   "execution_count": 382,
   "id": "af319eb5",
   "metadata": {
    "scrolled": false
   },
   "outputs": [],
   "source": [
    "# Drop the first level of the dataframe\n",
    "player_shooting_stats.columns = player_shooting_stats.columns.droplevel()"
   ]
  },
  {
   "cell_type": "code",
   "execution_count": 383,
   "id": "9af1e717",
   "metadata": {},
   "outputs": [],
   "source": [
    "# Drop rows where column names occur because of the 'folded' table\n",
    "player_shooting_stats = player_shooting_stats.loc[player_shooting_stats['Player'] != 'Player']"
   ]
  },
  {
   "cell_type": "code",
   "execution_count": null,
   "id": "e6737070",
   "metadata": {},
   "outputs": [],
   "source": [
    "# Keep only relevant columns\n",
    "player_shooting_stats = player_shooting_stats[[\"Player\", \"Nation\", \"Pos\", \"Squad\", \"Age\", \"Born\", \"MP\", \"Starts\",\n",
    "                                              \"Min\", \"90s\"]]"
   ]
  },
  {
   "cell_type": "code",
   "execution_count": 384,
   "id": "dba12b01",
   "metadata": {
    "scrolled": false
   },
   "outputs": [
    {
     "data": {
      "text/html": [
       "<div>\n",
       "<style scoped>\n",
       "    .dataframe tbody tr th:only-of-type {\n",
       "        vertical-align: middle;\n",
       "    }\n",
       "\n",
       "    .dataframe tbody tr th {\n",
       "        vertical-align: top;\n",
       "    }\n",
       "\n",
       "    .dataframe thead th {\n",
       "        text-align: right;\n",
       "    }\n",
       "</style>\n",
       "<table border=\"1\" class=\"dataframe\">\n",
       "  <thead>\n",
       "    <tr style=\"text-align: right;\">\n",
       "      <th></th>\n",
       "      <th>Rk</th>\n",
       "      <th>Player</th>\n",
       "      <th>Nation</th>\n",
       "      <th>Pos</th>\n",
       "      <th>Squad</th>\n",
       "      <th>Age</th>\n",
       "      <th>Born</th>\n",
       "      <th>90s</th>\n",
       "      <th>Gls</th>\n",
       "      <th>Sh</th>\n",
       "      <th>...</th>\n",
       "      <th>Dist</th>\n",
       "      <th>FK</th>\n",
       "      <th>PK</th>\n",
       "      <th>PKatt</th>\n",
       "      <th>xG</th>\n",
       "      <th>npxG</th>\n",
       "      <th>npxG/Sh</th>\n",
       "      <th>G-xG</th>\n",
       "      <th>np:G-xG</th>\n",
       "      <th>Matches</th>\n",
       "    </tr>\n",
       "  </thead>\n",
       "  <tbody>\n",
       "    <tr>\n",
       "      <th>0</th>\n",
       "      <td>1</td>\n",
       "      <td>Max Aarons</td>\n",
       "      <td>eng ENG</td>\n",
       "      <td>DF</td>\n",
       "      <td>Bournemouth</td>\n",
       "      <td>24-059</td>\n",
       "      <td>2000</td>\n",
       "      <td>12.1</td>\n",
       "      <td>0</td>\n",
       "      <td>1</td>\n",
       "      <td>...</td>\n",
       "      <td>23.9</td>\n",
       "      <td>0</td>\n",
       "      <td>0</td>\n",
       "      <td>0</td>\n",
       "      <td>0.0</td>\n",
       "      <td>0.0</td>\n",
       "      <td>0.02</td>\n",
       "      <td>0.0</td>\n",
       "      <td>0.0</td>\n",
       "      <td>Matches</td>\n",
       "    </tr>\n",
       "    <tr>\n",
       "      <th>1</th>\n",
       "      <td>2</td>\n",
       "      <td>Bénie Adama Traore</td>\n",
       "      <td>ci CIV</td>\n",
       "      <td>FW,MF</td>\n",
       "      <td>Sheffield Utd</td>\n",
       "      <td>21-094</td>\n",
       "      <td>2002</td>\n",
       "      <td>4.3</td>\n",
       "      <td>0</td>\n",
       "      <td>1</td>\n",
       "      <td>...</td>\n",
       "      <td>15.3</td>\n",
       "      <td>0</td>\n",
       "      <td>0</td>\n",
       "      <td>0</td>\n",
       "      <td>0.3</td>\n",
       "      <td>0.3</td>\n",
       "      <td>0.27</td>\n",
       "      <td>-0.3</td>\n",
       "      <td>-0.3</td>\n",
       "      <td>Matches</td>\n",
       "    </tr>\n",
       "    <tr>\n",
       "      <th>2</th>\n",
       "      <td>3</td>\n",
       "      <td>Tosin Adarabioyo</td>\n",
       "      <td>eng ENG</td>\n",
       "      <td>DF</td>\n",
       "      <td>Fulham</td>\n",
       "      <td>26-161</td>\n",
       "      <td>1997</td>\n",
       "      <td>11.0</td>\n",
       "      <td>1</td>\n",
       "      <td>9</td>\n",
       "      <td>...</td>\n",
       "      <td>16.2</td>\n",
       "      <td>0</td>\n",
       "      <td>0</td>\n",
       "      <td>0</td>\n",
       "      <td>0.3</td>\n",
       "      <td>0.3</td>\n",
       "      <td>0.04</td>\n",
       "      <td>+0.7</td>\n",
       "      <td>+0.7</td>\n",
       "      <td>Matches</td>\n",
       "    </tr>\n",
       "    <tr>\n",
       "      <th>3</th>\n",
       "      <td>4</td>\n",
       "      <td>Elijah Adebayo</td>\n",
       "      <td>eng ENG</td>\n",
       "      <td>FW</td>\n",
       "      <td>Luton Town</td>\n",
       "      <td>26-056</td>\n",
       "      <td>1998</td>\n",
       "      <td>12.9</td>\n",
       "      <td>9</td>\n",
       "      <td>28</td>\n",
       "      <td>...</td>\n",
       "      <td>9.5</td>\n",
       "      <td>0</td>\n",
       "      <td>0</td>\n",
       "      <td>0</td>\n",
       "      <td>5.6</td>\n",
       "      <td>5.6</td>\n",
       "      <td>0.20</td>\n",
       "      <td>+3.4</td>\n",
       "      <td>+3.4</td>\n",
       "      <td>Matches</td>\n",
       "    </tr>\n",
       "    <tr>\n",
       "      <th>4</th>\n",
       "      <td>5</td>\n",
       "      <td>Simon Adingra</td>\n",
       "      <td>ci CIV</td>\n",
       "      <td>FW</td>\n",
       "      <td>Brighton</td>\n",
       "      <td>22-062</td>\n",
       "      <td>2002</td>\n",
       "      <td>15.2</td>\n",
       "      <td>6</td>\n",
       "      <td>31</td>\n",
       "      <td>...</td>\n",
       "      <td>15.8</td>\n",
       "      <td>0</td>\n",
       "      <td>0</td>\n",
       "      <td>0</td>\n",
       "      <td>3.0</td>\n",
       "      <td>3.0</td>\n",
       "      <td>0.10</td>\n",
       "      <td>+3.0</td>\n",
       "      <td>+3.0</td>\n",
       "      <td>Matches</td>\n",
       "    </tr>\n",
       "  </tbody>\n",
       "</table>\n",
       "<p>5 rows × 26 columns</p>\n",
       "</div>"
      ],
      "text/plain": [
       "  Rk              Player   Nation    Pos          Squad     Age  Born   90s  \\\n",
       "0  1          Max Aarons  eng ENG     DF    Bournemouth  24-059  2000  12.1   \n",
       "1  2  Bénie Adama Traore   ci CIV  FW,MF  Sheffield Utd  21-094  2002   4.3   \n",
       "2  3    Tosin Adarabioyo  eng ENG     DF         Fulham  26-161  1997  11.0   \n",
       "3  4      Elijah Adebayo  eng ENG     FW     Luton Town  26-056  1998  12.9   \n",
       "4  5       Simon Adingra   ci CIV     FW       Brighton  22-062  2002  15.2   \n",
       "\n",
       "  Gls  Sh  ...  Dist FK PK PKatt   xG npxG npxG/Sh  G-xG np:G-xG  Matches  \n",
       "0   0   1  ...  23.9  0  0     0  0.0  0.0    0.02   0.0     0.0  Matches  \n",
       "1   0   1  ...  15.3  0  0     0  0.3  0.3    0.27  -0.3    -0.3  Matches  \n",
       "2   1   9  ...  16.2  0  0     0  0.3  0.3    0.04  +0.7    +0.7  Matches  \n",
       "3   9  28  ...   9.5  0  0     0  5.6  5.6    0.20  +3.4    +3.4  Matches  \n",
       "4   6  31  ...  15.8  0  0     0  3.0  3.0    0.10  +3.0    +3.0  Matches  \n",
       "\n",
       "[5 rows x 26 columns]"
      ]
     },
     "execution_count": 384,
     "metadata": {},
     "output_type": "execute_result"
    }
   ],
   "source": [
    "# Show first five rows of dataframe\n",
    "player_shooting_stats.head()"
   ]
  },
  {
   "cell_type": "markdown",
   "id": "775ad1ad",
   "metadata": {},
   "source": [
    "### Team stats"
   ]
  },
  {
   "cell_type": "code",
   "execution_count": 385,
   "id": "5f3b6f3e",
   "metadata": {
    "scrolled": true
   },
   "outputs": [],
   "source": [
    "# Download HTML of shooting page\n",
    "data_teams = requests.get(shooting_url)"
   ]
  },
  {
   "cell_type": "code",
   "execution_count": 387,
   "id": "2ca1e0f3",
   "metadata": {
    "scrolled": true
   },
   "outputs": [
    {
     "name": "stderr",
     "output_type": "stream",
     "text": [
      "/var/folders/qq/jf2q9_1s1ln_cgch_rjpr1fm0000gn/T/ipykernel_96527/1401417894.py:2: FutureWarning: Passing literal html to 'read_html' is deprecated and will be removed in a future version. To read from a literal string, wrap it in a 'StringIO' object.\n",
      "  team_shooting_stats = pd.read_html(data_teams.text, match = \"Squad Shooting\")[0]\n"
     ]
    }
   ],
   "source": [
    "# Create dataframe of team shooting stats of first table on the page. Note: could not solve StringIO error-message here.\n",
    "team_shooting_stats = pd.read_html(data_teams.text, match = \"Squad Shooting\")[0]"
   ]
  },
  {
   "cell_type": "code",
   "execution_count": 388,
   "id": "5857aa01",
   "metadata": {},
   "outputs": [],
   "source": [
    "# Drop the first level of the dataframe\n",
    "team_shooting_stats.columns = team_shooting_stats.columns.droplevel()"
   ]
  },
  {
   "cell_type": "code",
   "execution_count": null,
   "id": "7ab782ea",
   "metadata": {},
   "outputs": [],
   "source": [
    "# Keep only relevant columns\n",
    "team_shooting_stats = team_shooting_stats[[\"Squad\", \"Age\", \"MP\", \"Starts\", \"Min\", \"90s\"]]"
   ]
  },
  {
   "cell_type": "code",
   "execution_count": 389,
   "id": "db8aedfc",
   "metadata": {
    "scrolled": true
   },
   "outputs": [
    {
     "data": {
      "text/html": [
       "<div>\n",
       "<style scoped>\n",
       "    .dataframe tbody tr th:only-of-type {\n",
       "        vertical-align: middle;\n",
       "    }\n",
       "\n",
       "    .dataframe tbody tr th {\n",
       "        vertical-align: top;\n",
       "    }\n",
       "\n",
       "    .dataframe thead th {\n",
       "        text-align: right;\n",
       "    }\n",
       "</style>\n",
       "<table border=\"1\" class=\"dataframe\">\n",
       "  <thead>\n",
       "    <tr style=\"text-align: right;\">\n",
       "      <th></th>\n",
       "      <th>Squad</th>\n",
       "      <th># Pl</th>\n",
       "      <th>90s</th>\n",
       "      <th>Gls</th>\n",
       "      <th>Sh</th>\n",
       "      <th>SoT</th>\n",
       "      <th>SoT%</th>\n",
       "      <th>Sh/90</th>\n",
       "      <th>SoT/90</th>\n",
       "      <th>G/Sh</th>\n",
       "      <th>G/SoT</th>\n",
       "      <th>Dist</th>\n",
       "      <th>FK</th>\n",
       "      <th>PK</th>\n",
       "      <th>PKatt</th>\n",
       "      <th>xG</th>\n",
       "      <th>npxG</th>\n",
       "      <th>npxG/Sh</th>\n",
       "      <th>G-xG</th>\n",
       "      <th>np:G-xG</th>\n",
       "    </tr>\n",
       "  </thead>\n",
       "  <tbody>\n",
       "    <tr>\n",
       "      <th>0</th>\n",
       "      <td>Arsenal</td>\n",
       "      <td>25</td>\n",
       "      <td>26.0</td>\n",
       "      <td>60</td>\n",
       "      <td>431</td>\n",
       "      <td>139</td>\n",
       "      <td>32.3</td>\n",
       "      <td>16.58</td>\n",
       "      <td>5.35</td>\n",
       "      <td>0.12</td>\n",
       "      <td>0.37</td>\n",
       "      <td>16.0</td>\n",
       "      <td>3</td>\n",
       "      <td>8</td>\n",
       "      <td>8</td>\n",
       "      <td>53.1</td>\n",
       "      <td>47.0</td>\n",
       "      <td>0.11</td>\n",
       "      <td>6.9</td>\n",
       "      <td>5.0</td>\n",
       "    </tr>\n",
       "    <tr>\n",
       "      <th>1</th>\n",
       "      <td>Aston Villa</td>\n",
       "      <td>28</td>\n",
       "      <td>27.0</td>\n",
       "      <td>56</td>\n",
       "      <td>394</td>\n",
       "      <td>146</td>\n",
       "      <td>37.1</td>\n",
       "      <td>14.59</td>\n",
       "      <td>5.41</td>\n",
       "      <td>0.13</td>\n",
       "      <td>0.36</td>\n",
       "      <td>16.2</td>\n",
       "      <td>13</td>\n",
       "      <td>4</td>\n",
       "      <td>4</td>\n",
       "      <td>50.1</td>\n",
       "      <td>47.0</td>\n",
       "      <td>0.12</td>\n",
       "      <td>5.9</td>\n",
       "      <td>5.0</td>\n",
       "    </tr>\n",
       "    <tr>\n",
       "      <th>2</th>\n",
       "      <td>Bournemouth</td>\n",
       "      <td>27</td>\n",
       "      <td>25.0</td>\n",
       "      <td>33</td>\n",
       "      <td>333</td>\n",
       "      <td>109</td>\n",
       "      <td>32.7</td>\n",
       "      <td>13.32</td>\n",
       "      <td>4.36</td>\n",
       "      <td>0.10</td>\n",
       "      <td>0.29</td>\n",
       "      <td>16.7</td>\n",
       "      <td>10</td>\n",
       "      <td>1</td>\n",
       "      <td>1</td>\n",
       "      <td>35.8</td>\n",
       "      <td>35.0</td>\n",
       "      <td>0.11</td>\n",
       "      <td>-2.8</td>\n",
       "      <td>-3.0</td>\n",
       "    </tr>\n",
       "    <tr>\n",
       "      <th>3</th>\n",
       "      <td>Brentford</td>\n",
       "      <td>28</td>\n",
       "      <td>27.0</td>\n",
       "      <td>38</td>\n",
       "      <td>340</td>\n",
       "      <td>111</td>\n",
       "      <td>32.6</td>\n",
       "      <td>12.59</td>\n",
       "      <td>4.11</td>\n",
       "      <td>0.10</td>\n",
       "      <td>0.32</td>\n",
       "      <td>15.1</td>\n",
       "      <td>12</td>\n",
       "      <td>3</td>\n",
       "      <td>3</td>\n",
       "      <td>43.0</td>\n",
       "      <td>40.8</td>\n",
       "      <td>0.12</td>\n",
       "      <td>-5.0</td>\n",
       "      <td>-5.8</td>\n",
       "    </tr>\n",
       "    <tr>\n",
       "      <th>4</th>\n",
       "      <td>Brighton</td>\n",
       "      <td>27</td>\n",
       "      <td>27.0</td>\n",
       "      <td>46</td>\n",
       "      <td>404</td>\n",
       "      <td>157</td>\n",
       "      <td>38.9</td>\n",
       "      <td>14.96</td>\n",
       "      <td>5.81</td>\n",
       "      <td>0.10</td>\n",
       "      <td>0.26</td>\n",
       "      <td>16.5</td>\n",
       "      <td>10</td>\n",
       "      <td>5</td>\n",
       "      <td>5</td>\n",
       "      <td>44.9</td>\n",
       "      <td>41.2</td>\n",
       "      <td>0.10</td>\n",
       "      <td>1.1</td>\n",
       "      <td>-0.2</td>\n",
       "    </tr>\n",
       "  </tbody>\n",
       "</table>\n",
       "</div>"
      ],
      "text/plain": [
       "         Squad  # Pl   90s  Gls   Sh  SoT  SoT%  Sh/90  SoT/90  G/Sh  G/SoT  \\\n",
       "0      Arsenal    25  26.0   60  431  139  32.3  16.58    5.35  0.12   0.37   \n",
       "1  Aston Villa    28  27.0   56  394  146  37.1  14.59    5.41  0.13   0.36   \n",
       "2  Bournemouth    27  25.0   33  333  109  32.7  13.32    4.36  0.10   0.29   \n",
       "3    Brentford    28  27.0   38  340  111  32.6  12.59    4.11  0.10   0.32   \n",
       "4     Brighton    27  27.0   46  404  157  38.9  14.96    5.81  0.10   0.26   \n",
       "\n",
       "   Dist  FK  PK  PKatt    xG  npxG  npxG/Sh  G-xG  np:G-xG  \n",
       "0  16.0   3   8      8  53.1  47.0     0.11   6.9      5.0  \n",
       "1  16.2  13   4      4  50.1  47.0     0.12   5.9      5.0  \n",
       "2  16.7  10   1      1  35.8  35.0     0.11  -2.8     -3.0  \n",
       "3  15.1  12   3      3  43.0  40.8     0.12  -5.0     -5.8  \n",
       "4  16.5  10   5      5  44.9  41.2     0.10   1.1     -0.2  "
      ]
     },
     "execution_count": 389,
     "metadata": {},
     "output_type": "execute_result"
    }
   ],
   "source": [
    "# Show first five rows of dataframe\n",
    "team_shooting_stats.head()"
   ]
  },
  {
   "cell_type": "code",
   "execution_count": 190,
   "id": "009fb210",
   "metadata": {},
   "outputs": [],
   "source": [
    "# Specify columns to add a prefix to\n",
    "cols = team_shooting_stats.loc[:, team_shooting_stats.columns != \"Squad\"]"
   ]
  },
  {
   "cell_type": "code",
   "execution_count": 191,
   "id": "4be7b518",
   "metadata": {},
   "outputs": [],
   "source": [
    "# Add \"team_\" in front of team variables to distinguish between player stats\n",
    "team_shooting_stats = team_shooting_stats.rename(columns = {c: 'team_' + c for c in team_shooting_stats.columns if c in cols})"
   ]
  },
  {
   "cell_type": "code",
   "execution_count": null,
   "id": "31a7118a",
   "metadata": {},
   "outputs": [],
   "source": [
    "# Create a loop \n",
    "for competition in list_competitions:\n",
    "    "
   ]
  }
 ],
 "metadata": {
  "kernelspec": {
   "display_name": "Python 3 (ipykernel)",
   "language": "python",
   "name": "python3"
  },
  "language_info": {
   "codemirror_mode": {
    "name": "ipython",
    "version": 3
   },
   "file_extension": ".py",
   "mimetype": "text/x-python",
   "name": "python",
   "nbconvert_exporter": "python",
   "pygments_lexer": "ipython3",
   "version": "3.11.5"
  }
 },
 "nbformat": 4,
 "nbformat_minor": 5
}
