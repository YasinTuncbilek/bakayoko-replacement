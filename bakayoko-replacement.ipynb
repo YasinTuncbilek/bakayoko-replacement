{
 "cells": [
  {
   "cell_type": "markdown",
   "id": "d01400f7",
   "metadata": {},
   "source": [
    "# Analysis: Bakayoko replacement"
   ]
  },
  {
   "cell_type": "markdown",
   "id": "81ceb33b",
   "metadata": {},
   "source": [
    "Analysis: Bakayoko replacement \\\n",
    "Name: Yasin Tunçbilek \\\n",
    "Date: 9 February 2024"
   ]
  },
  {
   "cell_type": "markdown",
   "id": "0931d652",
   "metadata": {},
   "source": [
    "## Packages"
   ]
  },
  {
   "cell_type": "markdown",
   "id": "971ab734",
   "metadata": {},
   "source": [
    "Library to send HTTP requests"
   ]
  },
  {
   "cell_type": "code",
   "execution_count": 1,
   "id": "d335d9ac",
   "metadata": {},
   "outputs": [],
   "source": [
    "import requests"
   ]
  },
  {
   "cell_type": "markdown",
   "id": "b4a5de42",
   "metadata": {},
   "source": [
    "Library to parse HTML"
   ]
  },
  {
   "cell_type": "code",
   "execution_count": 2,
   "id": "b99e96dd",
   "metadata": {},
   "outputs": [],
   "source": [
    "from bs4 import BeautifulSoup"
   ]
  },
  {
   "cell_type": "markdown",
   "id": "f0336a5e",
   "metadata": {},
   "source": [
    "Library to deal with various types of I/O. Needed because read_html gives an error."
   ]
  },
  {
   "cell_type": "code",
   "execution_count": 3,
   "id": "fcd2eab9",
   "metadata": {},
   "outputs": [],
   "source": [
    "from io import StringIO"
   ]
  },
  {
   "cell_type": "markdown",
   "id": "54a6d794",
   "metadata": {},
   "source": [
    "Pandas library for data analysis and manipulation"
   ]
  },
  {
   "cell_type": "code",
   "execution_count": 4,
   "id": "1f061c8b",
   "metadata": {},
   "outputs": [],
   "source": [
    "import pandas as pd"
   ]
  },
  {
   "cell_type": "markdown",
   "id": "80855efb",
   "metadata": {},
   "source": [
    "## Player stats"
   ]
  },
  {
   "cell_type": "markdown",
   "id": "57fa50e9",
   "metadata": {},
   "source": [
    "### URLs to stats"
   ]
  },
  {
   "cell_type": "markdown",
   "id": "bba34de5",
   "metadata": {},
   "source": [
    "URL of a competition where stats reside in"
   ]
  },
  {
   "cell_type": "code",
   "execution_count": 5,
   "id": "b724c986",
   "metadata": {},
   "outputs": [],
   "source": [
    "competition_url = \"https://fbref.com/en/comps/23/2023-2024/stats/2023-2024-Eredivisie-Stats\""
   ]
  },
  {
   "cell_type": "markdown",
   "id": "8fcc3ec3",
   "metadata": {},
   "source": [
    "Download HTML of competition page"
   ]
  },
  {
   "cell_type": "code",
   "execution_count": 6,
   "id": "43a538d3",
   "metadata": {},
   "outputs": [],
   "source": [
    "data = requests.get(competition_url)"
   ]
  },
  {
   "cell_type": "markdown",
   "id": "a37feb13",
   "metadata": {},
   "source": [
    "Initialise library with downloaded HTML"
   ]
  },
  {
   "cell_type": "code",
   "execution_count": 7,
   "id": "484abf6d",
   "metadata": {},
   "outputs": [],
   "source": [
    "soup = BeautifulSoup(data.text)"
   ]
  },
  {
   "cell_type": "markdown",
   "id": "1863b29c",
   "metadata": {},
   "source": [
    "Select menu where URLs to various stats reside in"
   ]
  },
  {
   "cell_type": "code",
   "execution_count": 8,
   "id": "e6835e3a",
   "metadata": {},
   "outputs": [],
   "source": [
    "menu_stats = soup.select('li.full.hasmore')[0]"
   ]
  },
  {
   "cell_type": "markdown",
   "id": "b2808c5b",
   "metadata": {},
   "source": [
    "Find all tags where URLs to various stats reside in"
   ]
  },
  {
   "cell_type": "code",
   "execution_count": 9,
   "id": "91ec91a8",
   "metadata": {},
   "outputs": [],
   "source": [
    "urls_stats = menu_stats.find_all('a')"
   ]
  },
  {
   "cell_type": "markdown",
   "id": "ac226d64",
   "metadata": {},
   "source": [
    "Get href property of each link"
   ]
  },
  {
   "cell_type": "code",
   "execution_count": 10,
   "id": "6c57ba61",
   "metadata": {},
   "outputs": [],
   "source": [
    "urls_stats = [u.get(\"href\") for u in urls_stats]"
   ]
  },
  {
   "cell_type": "markdown",
   "id": "4473cd0b",
   "metadata": {},
   "source": [
    "Make full URLs"
   ]
  },
  {
   "cell_type": "code",
   "execution_count": 11,
   "id": "c237e3d8",
   "metadata": {},
   "outputs": [],
   "source": [
    "urls_stats = [f\"https://fbref.com{l}\" for l in urls_stats]"
   ]
  },
  {
   "cell_type": "markdown",
   "metadata": {},
   "source": [
    "Print list of URLS where various stats reside in"
   ]
  },
  {
   "cell_type": "code",
   "execution_count": 12,
   "id": "abc5d780",
   "metadata": {},
   "outputs": [
    {
     "data": {
      "text/plain": [
       "['https://fbref.com/en/comps/23/2023-2024/stats/2023-2024-Eredivisie-Stats',\n",
       " 'https://fbref.com/en/comps/23/2023-2024/keepers/2023-2024-Eredivisie-Stats',\n",
       " 'https://fbref.com/en/comps/23/2023-2024/keepersadv/2023-2024-Eredivisie-Stats',\n",
       " 'https://fbref.com/en/comps/23/2023-2024/shooting/2023-2024-Eredivisie-Stats',\n",
       " 'https://fbref.com/en/comps/23/2023-2024/passing/2023-2024-Eredivisie-Stats',\n",
       " 'https://fbref.com/en/comps/23/2023-2024/passing_types/2023-2024-Eredivisie-Stats',\n",
       " 'https://fbref.com/en/comps/23/2023-2024/gca/2023-2024-Eredivisie-Stats',\n",
       " 'https://fbref.com/en/comps/23/2023-2024/defense/2023-2024-Eredivisie-Stats',\n",
       " 'https://fbref.com/en/comps/23/2023-2024/possession/2023-2024-Eredivisie-Stats',\n",
       " 'https://fbref.com/en/comps/23/2023-2024/playingtime/2023-2024-Eredivisie-Stats',\n",
       " 'https://fbref.com/en/comps/23/2023-2024/misc/2023-2024-Eredivisie-Stats']"
      ]
     },
     "execution_count": 12,
     "metadata": {},
     "output_type": "execute_result"
    }
   ],
   "source": [
    "urls_stats"
   ]
  },
  {
   "cell_type": "markdown",
   "id": "eeeec47d",
   "metadata": {},
   "source": [
    "### Standard stats"
   ]
  },
  {
   "cell_type": "markdown",
   "id": "4ca6f7d8",
   "metadata": {},
   "source": [
    "URL of standard stats"
   ]
  },
  {
   "cell_type": "code",
   "execution_count": 13,
   "id": "c36c9867",
   "metadata": {},
   "outputs": [],
   "source": [
    "standard_url = urls_stats[0]"
   ]
  },
  {
   "cell_type": "markdown",
   "id": "9b4d76a3",
   "metadata": {},
   "source": [
    "Download HTML of standard stats page. Player table is commented out and therefore not retrievable. Therefore a replace."
   ]
  },
  {
   "cell_type": "code",
   "execution_count": 14,
   "id": "d3ca8911",
   "metadata": {},
   "outputs": [],
   "source": [
    "players_standard_data = requests.get(standard_url).text.replace('<!--','').replace('-->','')"
   ]
  },
  {
   "cell_type": "markdown",
   "id": "20c8e722",
   "metadata": {},
   "source": [
    "Wrap in a 'StringIO' object to read from a literal string"
   ]
  },
  {
   "cell_type": "code",
   "execution_count": 15,
   "id": "a8d6dddd",
   "metadata": {},
   "outputs": [],
   "source": [
    "players_standard_data = StringIO(players_standard_data)"
   ]
  },
  {
   "cell_type": "markdown",
   "id": "4bcb4e74",
   "metadata": {},
   "source": [
    "Create dataframe of players standard stats"
   ]
  },
  {
   "cell_type": "code",
   "execution_count": 16,
   "id": "806091e7",
   "metadata": {},
   "outputs": [],
   "source": [
    "players_standard_stats = pd.read_html(players_standard_data, attrs = {'id':'stats_standard'})[0]"
   ]
  },
  {
   "cell_type": "markdown",
   "id": "44c3652d",
   "metadata": {},
   "source": [
    "Drop the first level of the dataframe"
   ]
  },
  {
   "cell_type": "code",
   "execution_count": 17,
   "id": "f56b2a2c",
   "metadata": {},
   "outputs": [],
   "source": [
    "players_standard_stats.columns = players_standard_stats.columns.droplevel()"
   ]
  },
  {
   "cell_type": "markdown",
   "id": "eb8b20c6",
   "metadata": {},
   "source": [
    "Drop rows where column names occur because of the 'folded' table"
   ]
  },
  {
   "cell_type": "code",
   "execution_count": 18,
   "id": "d6f8d4d6",
   "metadata": {},
   "outputs": [],
   "source": [
    "players_standard_stats = players_standard_stats.loc[players_standard_stats['Player'] != 'Player']"
   ]
  },
  {
   "cell_type": "markdown",
   "id": "8041ba12",
   "metadata": {},
   "source": [
    "Keep only relevant columns"
   ]
  },
  {
   "cell_type": "code",
   "execution_count": 19,
   "id": "6de1913c",
   "metadata": {},
   "outputs": [],
   "source": [
    "players_standard_stats = players_standard_stats[[\"Player\", \"Nation\", \"Pos\", \"Squad\", \"Age\", \"Born\", \"Min\", \"90s\"]]"
   ]
  },
  {
   "cell_type": "markdown",
   "id": "451c6e82",
   "metadata": {},
   "source": [
    "Keep last three characters of values in Nation column "
   ]
  },
  {
   "cell_type": "code",
   "execution_count": 20,
   "id": "1e448281",
   "metadata": {},
   "outputs": [],
   "source": [
    "players_standard_stats[\"Nation\"] = players_standard_stats[\"Nation\"].str[-3:]"
   ]
  },
  {
   "cell_type": "markdown",
   "id": "5ea644e1",
   "metadata": {},
   "source": [
    "Make column names with lowercase"
   ]
  },
  {
   "cell_type": "code",
   "execution_count": 21,
   "id": "bf89de10",
   "metadata": {},
   "outputs": [],
   "source": [
    "players_standard_stats.columns = players_standard_stats.columns.str.lower()"
   ]
  },
  {
   "cell_type": "markdown",
   "id": "fdd30a39",
   "metadata": {},
   "source": [
    "Print first rows of dataframe"
   ]
  },
  {
   "cell_type": "code",
   "execution_count": 22,
   "id": "1a665479",
   "metadata": {},
   "outputs": [
    {
     "name": "stdout",
     "output_type": "stream",
     "text": [
      "                    player nation    pos          squad age  born   min   90s\n",
      "0      Patrick van Aanholt    NED     DF  PSV Eindhoven  32  1990  1114  12.4\n",
      "1          Paxten Aaronson    USA     MF        Vitesse  19  2003  1253  13.9\n",
      "2             Jayden Addai    NED     FW     AZ Alkmaar  17  2005   297   3.3\n",
      "3           Bobby Adekanye    NED     FW   Go Ahead Eag  24  1999  1804  20.0\n",
      "4            Shawn Adewoye    BEL     DF   RKC Waalwijk  23  2000  2338  26.0\n",
      "..                     ...    ...    ...            ...  ..   ...   ...   ...\n",
      "539      Lequincio Zeefuik    NED  MF,FW     AZ Alkmaar  18  2004    59   0.7\n",
      "540      Lequincio Zeefuik    NED  FW,MF       Volendam  18  2004   773   8.6\n",
      "541         Ramiz Zerrouki    ALG     MF      Feyenoord  25  1998  1387  15.4\n",
      "542      Giovanni van Zwam    NED     DF        Vitesse  19  2004   492   5.5\n",
      "543  Willum Þór Willumsson    ISL     MF   Go Ahead Eag  24  1998  2672  29.7\n",
      "\n",
      "[524 rows x 8 columns]\n"
     ]
    }
   ],
   "source": [
    "print(players_standard_stats)"
   ]
  },
  {
   "cell_type": "code",
   "execution_count": 23,
   "id": "5963a3ff",
   "metadata": {},
   "outputs": [
    {
     "data": {
      "text/plain": [
       "(524, 8)"
      ]
     },
     "execution_count": 23,
     "metadata": {},
     "output_type": "execute_result"
    }
   ],
   "source": [
    "players_standard_stats.shape"
   ]
  },
  {
   "cell_type": "markdown",
   "id": "a92d2de0",
   "metadata": {},
   "source": [
    "### Shooting stats"
   ]
  },
  {
   "cell_type": "markdown",
   "id": "d494ce4a",
   "metadata": {},
   "source": [
    "URL of shooting stats"
   ]
  },
  {
   "cell_type": "code",
   "execution_count": 46,
   "id": "0fcfaf6a",
   "metadata": {},
   "outputs": [],
   "source": [
    "shooting_url = urls_stats[3]"
   ]
  },
  {
   "cell_type": "markdown",
   "id": "35f25046",
   "metadata": {},
   "source": [
    "Download HTML of shooting page. Table is commented out. Therefore a replace."
   ]
  },
  {
   "cell_type": "code",
   "execution_count": 47,
   "id": "9109134a",
   "metadata": {},
   "outputs": [],
   "source": [
    "players_shooting_data = requests.get(shooting_url).text.replace('<!--','').replace('-->','')"
   ]
  },
  {
   "cell_type": "markdown",
   "id": "1be5e9c8",
   "metadata": {},
   "source": [
    "Wrap in a 'StringIO' object to read from a literal string"
   ]
  },
  {
   "cell_type": "code",
   "execution_count": 48,
   "id": "9f1aae93",
   "metadata": {},
   "outputs": [],
   "source": [
    "players_shooting_data = StringIO(players_shooting_data)"
   ]
  },
  {
   "cell_type": "markdown",
   "id": "eb556148",
   "metadata": {},
   "source": [
    "Create dataframe of players shooting stats"
   ]
  },
  {
   "cell_type": "code",
   "execution_count": 49,
   "id": "4c21569b",
   "metadata": {},
   "outputs": [],
   "source": [
    "players_shooting_stats = pd.read_html(players_shooting_data, attrs = {'id':'stats_shooting'})[0]"
   ]
  },
  {
   "cell_type": "markdown",
   "id": "668169b4",
   "metadata": {},
   "source": [
    "Drop the first level of the dataframe"
   ]
  },
  {
   "cell_type": "code",
   "execution_count": 50,
   "id": "f295d294",
   "metadata": {},
   "outputs": [],
   "source": [
    "players_shooting_stats.columns = players_shooting_stats.columns.droplevel()"
   ]
  },
  {
   "cell_type": "markdown",
   "id": "44f57ce8",
   "metadata": {},
   "source": [
    "Drop rows where column names occur because of the 'folded' table"
   ]
  },
  {
   "cell_type": "code",
   "execution_count": 51,
   "id": "c16988e4",
   "metadata": {},
   "outputs": [],
   "source": [
    "players_shooting_stats = players_shooting_stats.loc[players_shooting_stats['Player'] != 'Player']"
   ]
  },
  {
   "cell_type": "markdown",
   "id": "a010e3d1",
   "metadata": {},
   "source": [
    "Keep only relevant columns"
   ]
  },
  {
   "cell_type": "code",
   "execution_count": 64,
   "id": "7efd7828",
   "metadata": {},
   "outputs": [],
   "source": [
    "players_shooting_stats = players_shooting_stats[[\"Player\", \"Squad\", \"Age\", \"Sh\", \"npxG\", \"npxG/Sh\"]]"
   ]
  },
  {
   "cell_type": "markdown",
   "id": "390e9790",
   "metadata": {},
   "source": [
    "Print first rows of dataframe"
   ]
  },
  {
   "cell_type": "code",
   "execution_count": 53,
   "id": "26dd98dc",
   "metadata": {},
   "outputs": [
    {
     "data": {
      "text/html": [
       "<div>\n",
       "<style scoped>\n",
       "    .dataframe tbody tr th:only-of-type {\n",
       "        vertical-align: middle;\n",
       "    }\n",
       "\n",
       "    .dataframe tbody tr th {\n",
       "        vertical-align: top;\n",
       "    }\n",
       "\n",
       "    .dataframe thead th {\n",
       "        text-align: right;\n",
       "    }\n",
       "</style>\n",
       "<table border=\"1\" class=\"dataframe\">\n",
       "  <thead>\n",
       "    <tr style=\"text-align: right;\">\n",
       "      <th></th>\n",
       "      <th>Player</th>\n",
       "      <th>Squad</th>\n",
       "      <th>Age</th>\n",
       "      <th>Sh</th>\n",
       "      <th>npxG</th>\n",
       "      <th>npxG/Sh</th>\n",
       "    </tr>\n",
       "  </thead>\n",
       "  <tbody>\n",
       "    <tr>\n",
       "      <th>0</th>\n",
       "      <td>Patrick van Aanholt</td>\n",
       "      <td>PSV Eindhoven</td>\n",
       "      <td>32</td>\n",
       "      <td>26</td>\n",
       "      <td>2.1</td>\n",
       "      <td>0.08</td>\n",
       "    </tr>\n",
       "    <tr>\n",
       "      <th>1</th>\n",
       "      <td>Paxten Aaronson</td>\n",
       "      <td>Vitesse</td>\n",
       "      <td>19</td>\n",
       "      <td>38</td>\n",
       "      <td>5.0</td>\n",
       "      <td>0.14</td>\n",
       "    </tr>\n",
       "    <tr>\n",
       "      <th>2</th>\n",
       "      <td>Jayden Addai</td>\n",
       "      <td>AZ Alkmaar</td>\n",
       "      <td>17</td>\n",
       "      <td>7</td>\n",
       "      <td>0.2</td>\n",
       "      <td>0.03</td>\n",
       "    </tr>\n",
       "    <tr>\n",
       "      <th>3</th>\n",
       "      <td>Bobby Adekanye</td>\n",
       "      <td>Go Ahead Eag</td>\n",
       "      <td>24</td>\n",
       "      <td>40</td>\n",
       "      <td>2.6</td>\n",
       "      <td>0.06</td>\n",
       "    </tr>\n",
       "    <tr>\n",
       "      <th>4</th>\n",
       "      <td>Shawn Adewoye</td>\n",
       "      <td>RKC Waalwijk</td>\n",
       "      <td>23</td>\n",
       "      <td>16</td>\n",
       "      <td>1.3</td>\n",
       "      <td>0.08</td>\n",
       "    </tr>\n",
       "  </tbody>\n",
       "</table>\n",
       "</div>"
      ],
      "text/plain": [
       "                Player          Squad Age  Sh npxG npxG/Sh\n",
       "0  Patrick van Aanholt  PSV Eindhoven  32  26  2.1    0.08\n",
       "1      Paxten Aaronson        Vitesse  19  38  5.0    0.14\n",
       "2         Jayden Addai     AZ Alkmaar  17   7  0.2    0.03\n",
       "3       Bobby Adekanye   Go Ahead Eag  24  40  2.6    0.06\n",
       "4        Shawn Adewoye   RKC Waalwijk  23  16  1.3    0.08"
      ]
     },
     "execution_count": 53,
     "metadata": {},
     "output_type": "execute_result"
    }
   ],
   "source": [
    "players_shooting_stats.head()"
   ]
  },
  {
   "cell_type": "markdown",
   "id": "16873a84",
   "metadata": {},
   "source": [
    "### Passing stats"
   ]
  },
  {
   "cell_type": "markdown",
   "id": "e8af2fc1",
   "metadata": {},
   "source": [
    "URL of passing stats"
   ]
  },
  {
   "cell_type": "code",
   "execution_count": 63,
   "id": "72e670fa",
   "metadata": {},
   "outputs": [],
   "source": [
    "passing_url = urls_stats[4]"
   ]
  },
  {
   "cell_type": "markdown",
   "id": "395219f6",
   "metadata": {},
   "source": [
    "Download HTML of passing page. Table is commented out. Therefore a replace."
   ]
  },
  {
   "cell_type": "code",
   "execution_count": 65,
   "id": "bec13129",
   "metadata": {},
   "outputs": [],
   "source": [
    "players_passing_data = requests.get(passing_url).text.replace('<!--','').replace('-->','')"
   ]
  },
  {
   "cell_type": "markdown",
   "id": "a7e726f5",
   "metadata": {},
   "source": [
    "Wrap in a 'StringIO' object to read from a literal string"
   ]
  },
  {
   "cell_type": "code",
   "execution_count": 66,
   "id": "e7efa316",
   "metadata": {},
   "outputs": [],
   "source": [
    "players_passing_data = StringIO(players_passing_data)"
   ]
  },
  {
   "cell_type": "markdown",
   "id": "41cfeb90",
   "metadata": {},
   "source": [
    "Create dataframe of players passing stats"
   ]
  },
  {
   "cell_type": "code",
   "execution_count": 67,
   "id": "32f9ff3f",
   "metadata": {},
   "outputs": [],
   "source": [
    "players_passing_stats = pd.read_html(players_passing_data, attrs = {'id':'stats_passing'})[0]"
   ]
  },
  {
   "cell_type": "markdown",
   "id": "1aecbe9a",
   "metadata": {},
   "source": [
    "Drop the first level of the dataframe"
   ]
  },
  {
   "cell_type": "code",
   "execution_count": 68,
   "id": "19b98ffb",
   "metadata": {},
   "outputs": [],
   "source": [
    "players_passing_stats.columns = players_passing_stats.columns.droplevel()"
   ]
  },
  {
   "cell_type": "markdown",
   "id": "b841ab78",
   "metadata": {},
   "source": [
    "Drop rows where column names occur because of the 'folded' table"
   ]
  },
  {
   "cell_type": "code",
   "execution_count": 69,
   "id": "8a3c8955",
   "metadata": {},
   "outputs": [],
   "source": [
    "players_passing_stats = players_passing_stats.loc[players_passing_stats['Player'] != 'Player']"
   ]
  },
  {
   "cell_type": "markdown",
   "id": "deb12450",
   "metadata": {},
   "source": [
    "Keep only relevant columns"
   ]
  },
  {
   "cell_type": "code",
   "execution_count": 70,
   "id": "9f9e18fa",
   "metadata": {},
   "outputs": [],
   "source": [
    "players_passing_stats = players_passing_stats[[\"Player\", \"Squad\", \"Age\", \"xA\", \"1/3\"]]"
   ]
  },
  {
   "cell_type": "markdown",
   "id": "2feacd8d",
   "metadata": {},
   "source": [
    "Print first rows of dataframe"
   ]
  },
  {
   "cell_type": "code",
   "execution_count": 71,
   "id": "9a22aadb",
   "metadata": {},
   "outputs": [
    {
     "data": {
      "text/html": [
       "<div>\n",
       "<style scoped>\n",
       "    .dataframe tbody tr th:only-of-type {\n",
       "        vertical-align: middle;\n",
       "    }\n",
       "\n",
       "    .dataframe tbody tr th {\n",
       "        vertical-align: top;\n",
       "    }\n",
       "\n",
       "    .dataframe thead th {\n",
       "        text-align: right;\n",
       "    }\n",
       "</style>\n",
       "<table border=\"1\" class=\"dataframe\">\n",
       "  <thead>\n",
       "    <tr style=\"text-align: right;\">\n",
       "      <th></th>\n",
       "      <th>Player</th>\n",
       "      <th>Squad</th>\n",
       "      <th>Age</th>\n",
       "      <th>xA</th>\n",
       "      <th>1/3</th>\n",
       "    </tr>\n",
       "  </thead>\n",
       "  <tbody>\n",
       "    <tr>\n",
       "      <th>0</th>\n",
       "      <td>Patrick van Aanholt</td>\n",
       "      <td>PSV Eindhoven</td>\n",
       "      <td>32</td>\n",
       "      <td>3.1</td>\n",
       "      <td>68</td>\n",
       "    </tr>\n",
       "    <tr>\n",
       "      <th>1</th>\n",
       "      <td>Paxten Aaronson</td>\n",
       "      <td>Vitesse</td>\n",
       "      <td>19</td>\n",
       "      <td>2.0</td>\n",
       "      <td>22</td>\n",
       "    </tr>\n",
       "    <tr>\n",
       "      <th>2</th>\n",
       "      <td>Jayden Addai</td>\n",
       "      <td>AZ Alkmaar</td>\n",
       "      <td>17</td>\n",
       "      <td>0.9</td>\n",
       "      <td>4</td>\n",
       "    </tr>\n",
       "    <tr>\n",
       "      <th>3</th>\n",
       "      <td>Bobby Adekanye</td>\n",
       "      <td>Go Ahead Eag</td>\n",
       "      <td>24</td>\n",
       "      <td>4.0</td>\n",
       "      <td>27</td>\n",
       "    </tr>\n",
       "    <tr>\n",
       "      <th>4</th>\n",
       "      <td>Shawn Adewoye</td>\n",
       "      <td>RKC Waalwijk</td>\n",
       "      <td>23</td>\n",
       "      <td>0.4</td>\n",
       "      <td>73</td>\n",
       "    </tr>\n",
       "  </tbody>\n",
       "</table>\n",
       "</div>"
      ],
      "text/plain": [
       "                Player          Squad Age   xA 1/3\n",
       "0  Patrick van Aanholt  PSV Eindhoven  32  3.1  68\n",
       "1      Paxten Aaronson        Vitesse  19  2.0  22\n",
       "2         Jayden Addai     AZ Alkmaar  17  0.9   4\n",
       "3       Bobby Adekanye   Go Ahead Eag  24  4.0  27\n",
       "4        Shawn Adewoye   RKC Waalwijk  23  0.4  73"
      ]
     },
     "execution_count": 71,
     "metadata": {},
     "output_type": "execute_result"
    }
   ],
   "source": [
    "players_passing_stats.head()"
   ]
  },
  {
   "cell_type": "markdown",
   "id": "a1160051",
   "metadata": {},
   "source": [
    "### Goal and shot creation stats"
   ]
  },
  {
   "cell_type": "markdown",
   "id": "ce53abad",
   "metadata": {},
   "source": [
    "URL of goal and shot creation stats"
   ]
  },
  {
   "cell_type": "code",
   "execution_count": 83,
   "id": "025127d5",
   "metadata": {},
   "outputs": [],
   "source": [
    "gsc_url = urls_stats[6]"
   ]
  },
  {
   "cell_type": "markdown",
   "id": "7c5fa9b2",
   "metadata": {},
   "source": [
    "Download HTML of goal and shot creation page. Table is commented out. Therefore a replace."
   ]
  },
  {
   "cell_type": "code",
   "execution_count": 84,
   "id": "eb227899",
   "metadata": {},
   "outputs": [],
   "source": [
    "players_gsc_data = requests.get(gsc_url).text.replace('<!--','').replace('-->','')"
   ]
  },
  {
   "cell_type": "markdown",
   "id": "f108e822",
   "metadata": {},
   "source": [
    "Wrap in a 'StringIO' object to read from a literal string"
   ]
  },
  {
   "cell_type": "code",
   "execution_count": 85,
   "id": "ec6139b3",
   "metadata": {},
   "outputs": [],
   "source": [
    "players_gsc_data = StringIO(players_gsc_data)"
   ]
  },
  {
   "cell_type": "markdown",
   "id": "22e9ef41",
   "metadata": {},
   "source": [
    "Create dataframe of players goal and shot creation stats"
   ]
  },
  {
   "cell_type": "code",
   "execution_count": 86,
   "id": "4dd08d00",
   "metadata": {},
   "outputs": [],
   "source": [
    "players_gsc_stats = pd.read_html(players_gsc_data, attrs = {'id':'stats_gca'})[0]"
   ]
  },
  {
   "cell_type": "markdown",
   "id": "4fa430c5",
   "metadata": {},
   "source": [
    "Drop the first level of the dataframe"
   ]
  },
  {
   "cell_type": "code",
   "execution_count": 87,
   "id": "ca07af8a",
   "metadata": {},
   "outputs": [],
   "source": [
    "players_gsc_stats.columns = players_gsc_stats.columns.droplevel()"
   ]
  },
  {
   "cell_type": "markdown",
   "id": "446d10d3",
   "metadata": {},
   "source": [
    "Drop rows where column names occur because of the 'folded' table"
   ]
  },
  {
   "cell_type": "code",
   "execution_count": 88,
   "id": "c2ba58cd",
   "metadata": {},
   "outputs": [],
   "source": [
    "players_gsc_stats = players_gsc_stats.loc[players_gsc_stats['Player'] != 'Player']"
   ]
  },
  {
   "cell_type": "markdown",
   "id": "cc05fa04",
   "metadata": {},
   "source": [
    "Keep only relevant columns"
   ]
  },
  {
   "cell_type": "code",
   "execution_count": 89,
   "id": "c1f6c83e",
   "metadata": {},
   "outputs": [],
   "source": [
    "players_gsc_stats = players_gsc_stats[[\"Player\", \"Squad\", \"Age\", \"TO\"]]"
   ]
  },
  {
   "cell_type": "markdown",
   "id": "2e879e19",
   "metadata": {},
   "source": [
    "Drop second column with \"TO\""
   ]
  },
  {
   "cell_type": "code",
   "execution_count": 95,
   "id": "259e75ca",
   "metadata": {},
   "outputs": [],
   "source": [
    "players_gsc_stats = players_gsc_stats.loc[:,~players_gsc_stats.columns.duplicated()]"
   ]
  },
  {
   "cell_type": "markdown",
   "id": "13445a0d",
   "metadata": {},
   "source": [
    "Drop second \"TO\" column"
   ]
  },
  {
   "cell_type": "markdown",
   "id": "2e76906b",
   "metadata": {},
   "source": [
    "Print first rows of dataframe"
   ]
  },
  {
   "cell_type": "code",
   "execution_count": 96,
   "id": "b651aad0",
   "metadata": {},
   "outputs": [
    {
     "data": {
      "text/html": [
       "<div>\n",
       "<style scoped>\n",
       "    .dataframe tbody tr th:only-of-type {\n",
       "        vertical-align: middle;\n",
       "    }\n",
       "\n",
       "    .dataframe tbody tr th {\n",
       "        vertical-align: top;\n",
       "    }\n",
       "\n",
       "    .dataframe thead th {\n",
       "        text-align: right;\n",
       "    }\n",
       "</style>\n",
       "<table border=\"1\" class=\"dataframe\">\n",
       "  <thead>\n",
       "    <tr style=\"text-align: right;\">\n",
       "      <th></th>\n",
       "      <th>Player</th>\n",
       "      <th>Squad</th>\n",
       "      <th>Age</th>\n",
       "      <th>TO</th>\n",
       "    </tr>\n",
       "  </thead>\n",
       "  <tbody>\n",
       "    <tr>\n",
       "      <th>0</th>\n",
       "      <td>Patrick van Aanholt</td>\n",
       "      <td>PSV Eindhoven</td>\n",
       "      <td>32</td>\n",
       "      <td>3</td>\n",
       "    </tr>\n",
       "    <tr>\n",
       "      <th>1</th>\n",
       "      <td>Paxten Aaronson</td>\n",
       "      <td>Vitesse</td>\n",
       "      <td>19</td>\n",
       "      <td>3</td>\n",
       "    </tr>\n",
       "    <tr>\n",
       "      <th>2</th>\n",
       "      <td>Jayden Addai</td>\n",
       "      <td>AZ Alkmaar</td>\n",
       "      <td>17</td>\n",
       "      <td>0</td>\n",
       "    </tr>\n",
       "    <tr>\n",
       "      <th>3</th>\n",
       "      <td>Bobby Adekanye</td>\n",
       "      <td>Go Ahead Eag</td>\n",
       "      <td>24</td>\n",
       "      <td>11</td>\n",
       "    </tr>\n",
       "    <tr>\n",
       "      <th>4</th>\n",
       "      <td>Shawn Adewoye</td>\n",
       "      <td>RKC Waalwijk</td>\n",
       "      <td>23</td>\n",
       "      <td>0</td>\n",
       "    </tr>\n",
       "  </tbody>\n",
       "</table>\n",
       "</div>"
      ],
      "text/plain": [
       "                Player          Squad Age  TO\n",
       "0  Patrick van Aanholt  PSV Eindhoven  32   3\n",
       "1      Paxten Aaronson        Vitesse  19   3\n",
       "2         Jayden Addai     AZ Alkmaar  17   0\n",
       "3       Bobby Adekanye   Go Ahead Eag  24  11\n",
       "4        Shawn Adewoye   RKC Waalwijk  23   0"
      ]
     },
     "execution_count": 96,
     "metadata": {},
     "output_type": "execute_result"
    }
   ],
   "source": [
    "players_gsc_stats.head()"
   ]
  },
  {
   "cell_type": "markdown",
   "id": "ab1a4c72",
   "metadata": {},
   "source": [
    "### Defense stats"
   ]
  },
  {
   "cell_type": "markdown",
   "id": "53806b2c",
   "metadata": {},
   "source": [
    "URL of defense stats"
   ]
  },
  {
   "cell_type": "code",
   "execution_count": 105,
   "id": "70a5d514",
   "metadata": {},
   "outputs": [],
   "source": [
    "defense_url = urls_stats[7]"
   ]
  },
  {
   "cell_type": "markdown",
   "id": "77a42ee5",
   "metadata": {},
   "source": [
    "Download HTML of defense page. Table is commented out. Therefore a replace."
   ]
  },
  {
   "cell_type": "code",
   "execution_count": 106,
   "id": "2eab9640",
   "metadata": {},
   "outputs": [],
   "source": [
    "players_defense_data = requests.get(defense_url).text.replace('<!--','').replace('-->','')"
   ]
  },
  {
   "cell_type": "markdown",
   "id": "12f4795c",
   "metadata": {},
   "source": [
    "Wrap in a 'StringIO' object to read from a literal string"
   ]
  },
  {
   "cell_type": "code",
   "execution_count": 107,
   "id": "d18c83a8",
   "metadata": {},
   "outputs": [],
   "source": [
    "players_defense_data = StringIO(players_defense_data)"
   ]
  },
  {
   "cell_type": "markdown",
   "id": "c042ac3c",
   "metadata": {},
   "source": [
    "Create dataframe of players defense stats"
   ]
  },
  {
   "cell_type": "code",
   "execution_count": 108,
   "id": "9d82b461",
   "metadata": {},
   "outputs": [],
   "source": [
    "players_defense_stats = pd.read_html(players_defense_data, attrs = {'id':'stats_defense'})[0]"
   ]
  },
  {
   "cell_type": "markdown",
   "id": "c74a9859",
   "metadata": {},
   "source": [
    "Drop the first level of the dataframe"
   ]
  },
  {
   "cell_type": "code",
   "execution_count": 109,
   "id": "471416be",
   "metadata": {},
   "outputs": [],
   "source": [
    "players_defense_stats.columns = players_defense_stats.columns.droplevel()"
   ]
  },
  {
   "cell_type": "markdown",
   "id": "fcd16f09",
   "metadata": {},
   "source": [
    "Drop rows where column names occur because of the 'folded' table"
   ]
  },
  {
   "cell_type": "code",
   "execution_count": 110,
   "id": "a9a42129",
   "metadata": {},
   "outputs": [],
   "source": [
    "players_defense_stats = players_defense_stats.loc[players_defense_stats['Player'] != 'Player']"
   ]
  },
  {
   "cell_type": "markdown",
   "id": "ad5e99f8",
   "metadata": {},
   "source": [
    "Keep only relevant columns"
   ]
  },
  {
   "cell_type": "code",
   "execution_count": 111,
   "id": "d0e7e4eb",
   "metadata": {},
   "outputs": [],
   "source": [
    "players_defense_stats = players_defense_stats[[\"Player\", \"Squad\", \"Age\", \"Att 3rd\", \"Pass\", \"Int\"]]"
   ]
  },
  {
   "cell_type": "markdown",
   "id": "3c79c00f",
   "metadata": {},
   "source": [
    "Print first rows of dataframe"
   ]
  },
  {
   "cell_type": "code",
   "execution_count": 112,
   "id": "7ff178d9",
   "metadata": {},
   "outputs": [
    {
     "data": {
      "text/html": [
       "<div>\n",
       "<style scoped>\n",
       "    .dataframe tbody tr th:only-of-type {\n",
       "        vertical-align: middle;\n",
       "    }\n",
       "\n",
       "    .dataframe tbody tr th {\n",
       "        vertical-align: top;\n",
       "    }\n",
       "\n",
       "    .dataframe thead th {\n",
       "        text-align: right;\n",
       "    }\n",
       "</style>\n",
       "<table border=\"1\" class=\"dataframe\">\n",
       "  <thead>\n",
       "    <tr style=\"text-align: right;\">\n",
       "      <th></th>\n",
       "      <th>Player</th>\n",
       "      <th>Squad</th>\n",
       "      <th>Age</th>\n",
       "      <th>Att 3rd</th>\n",
       "      <th>Pass</th>\n",
       "      <th>Int</th>\n",
       "    </tr>\n",
       "  </thead>\n",
       "  <tbody>\n",
       "    <tr>\n",
       "      <th>0</th>\n",
       "      <td>Patrick van Aanholt</td>\n",
       "      <td>PSV Eindhoven</td>\n",
       "      <td>32</td>\n",
       "      <td>3</td>\n",
       "      <td>3</td>\n",
       "      <td>15</td>\n",
       "    </tr>\n",
       "    <tr>\n",
       "      <th>1</th>\n",
       "      <td>Paxten Aaronson</td>\n",
       "      <td>Vitesse</td>\n",
       "      <td>19</td>\n",
       "      <td>6</td>\n",
       "      <td>18</td>\n",
       "      <td>9</td>\n",
       "    </tr>\n",
       "    <tr>\n",
       "      <th>2</th>\n",
       "      <td>Jayden Addai</td>\n",
       "      <td>AZ Alkmaar</td>\n",
       "      <td>17</td>\n",
       "      <td>2</td>\n",
       "      <td>3</td>\n",
       "      <td>0</td>\n",
       "    </tr>\n",
       "    <tr>\n",
       "      <th>3</th>\n",
       "      <td>Bobby Adekanye</td>\n",
       "      <td>Go Ahead Eag</td>\n",
       "      <td>24</td>\n",
       "      <td>3</td>\n",
       "      <td>16</td>\n",
       "      <td>4</td>\n",
       "    </tr>\n",
       "    <tr>\n",
       "      <th>4</th>\n",
       "      <td>Shawn Adewoye</td>\n",
       "      <td>RKC Waalwijk</td>\n",
       "      <td>23</td>\n",
       "      <td>4</td>\n",
       "      <td>21</td>\n",
       "      <td>32</td>\n",
       "    </tr>\n",
       "  </tbody>\n",
       "</table>\n",
       "</div>"
      ],
      "text/plain": [
       "                Player          Squad Age Att 3rd Pass Int\n",
       "0  Patrick van Aanholt  PSV Eindhoven  32       3    3  15\n",
       "1      Paxten Aaronson        Vitesse  19       6   18   9\n",
       "2         Jayden Addai     AZ Alkmaar  17       2    3   0\n",
       "3       Bobby Adekanye   Go Ahead Eag  24       3   16   4\n",
       "4        Shawn Adewoye   RKC Waalwijk  23       4   21  32"
      ]
     },
     "execution_count": 112,
     "metadata": {},
     "output_type": "execute_result"
    }
   ],
   "source": [
    "players_defense_stats.head()"
   ]
  },
  {
   "cell_type": "markdown",
   "id": "4dcbf604",
   "metadata": {},
   "source": [
    "## Competitions"
   ]
  },
  {
   "cell_type": "code",
   "execution_count": 5,
   "id": "f6778983",
   "metadata": {},
   "outputs": [],
   "source": [
    "# List of competitions with advanced data from Opta for the analysis\n",
    "list_competitions = [\"https://fbref.com/en/comps/9/Premier-League-Stats\",\n",
    "                    \"https://fbref.com/en/comps/12/La-Liga-Stats\",\n",
    "                    \"https://fbref.com/en/comps/11/Serie-A-Stats\",\n",
    "                    \"https://fbref.com/en/comps/20/Bundesliga-Stats\",\n",
    "                    \"https://fbref.com/en/comps/13/Ligue-1-Stats\",\n",
    "                    \"https://fbref.com/en/comps/10/Championship-Stats\",\n",
    "                    \"https://fbref.com/en/comps/23/Eredivisie-Stats\",\n",
    "                    \"https://fbref.com/en/comps/22/Major-League-Soccer-Stats\",\n",
    "                    \"https://fbref.com/en/comps/32/Primeira-Liga-Stats\",\n",
    "                    \"https://fbref.com/en/comps/24/Serie-A-Stats\",\n",
    "                    \"https://fbref.com/en/comps/31/Liga-MX-Stats\",\n",
    "                    \"https://fbref.com/en/comps/37/Belgian-Pro-League-Stats\",\n",
    "                    \"https://fbref.com/en/comps/17/Segunda-Division-Stats\",\n",
    "                    \"https://fbref.com/en/comps/60/Ligue-2-Stats\",\n",
    "                    \"https://fbref.com/en/comps/33/2-Bundesliga-Stats\",\n",
    "                    \"https://fbref.com/en/comps/18/Serie-B-Stats\",\n",
    "                    \"https://fbref.com/en/comps/21/Primera-Division-Stats\"]"
   ]
  },
  {
   "cell_type": "code",
   "execution_count": 6,
   "id": "8fc3208d",
   "metadata": {},
   "outputs": [],
   "source": [
    "# URL of a competition where stats reside in\n",
    "competition_url = list_competitions[0]"
   ]
  },
  {
   "cell_type": "markdown",
   "id": "c9744cde",
   "metadata": {},
   "source": [
    "### Team stats"
   ]
  },
  {
   "cell_type": "code",
   "execution_count": 357,
   "id": "4e4eed55",
   "metadata": {},
   "outputs": [],
   "source": [
    "# Download HTML of standard stats page.\n",
    "data_teams = requests.get(standard_url)"
   ]
  },
  {
   "cell_type": "code",
   "execution_count": 358,
   "id": "9fc35379",
   "metadata": {},
   "outputs": [
    {
     "name": "stderr",
     "output_type": "stream",
     "text": [
      "/var/folders/qq/jf2q9_1s1ln_cgch_rjpr1fm0000gn/T/ipykernel_96527/1474480129.py:2: FutureWarning: Passing literal html to 'read_html' is deprecated and will be removed in a future version. To read from a literal string, wrap it in a 'StringIO' object.\n",
      "  team_standard_stats = pd.read_html(data_teams.text)[0]\n"
     ]
    }
   ],
   "source": [
    "# Create dataframe of team standard stats of first table on the page. Note: could not solve StringIO error-message here.\n",
    "team_standard_stats = pd.read_html(data_teams.text)[0]"
   ]
  },
  {
   "cell_type": "code",
   "execution_count": 360,
   "id": "1a8fd404",
   "metadata": {},
   "outputs": [],
   "source": [
    "# Drop the first level of the dataframe\n",
    "team_standard_stats.columns = team_standard_stats.columns.droplevel()"
   ]
  },
  {
   "cell_type": "code",
   "execution_count": 361,
   "id": "6cc67912",
   "metadata": {},
   "outputs": [],
   "source": [
    "# Keep only relevant columns\n",
    "team_standard_stats = team_standard_stats[[\"Squad\", \"Age\", \"MP\", \"Starts\", \"Min\", \"90s\"]]"
   ]
  },
  {
   "cell_type": "code",
   "execution_count": 362,
   "id": "0867fa3f",
   "metadata": {},
   "outputs": [],
   "source": [
    "# Specify columns to add a prefix to\n",
    "cols = team_standard_stats.loc[:, team_standard_stats.columns != \"Squad\"]"
   ]
  },
  {
   "cell_type": "code",
   "execution_count": 363,
   "id": "c7a92d0a",
   "metadata": {},
   "outputs": [],
   "source": [
    "# Add \"team_\" in front of team variables to distinguish between player stats\n",
    "team_standard_stats = team_standard_stats.rename(columns = {c: 'team_' + c for c in team_standard_stats.columns if c in cols})"
   ]
  },
  {
   "cell_type": "code",
   "execution_count": 377,
   "id": "5712f40a",
   "metadata": {},
   "outputs": [
    {
     "data": {
      "text/html": [
       "<div>\n",
       "<style scoped>\n",
       "    .dataframe tbody tr th:only-of-type {\n",
       "        vertical-align: middle;\n",
       "    }\n",
       "\n",
       "    .dataframe tbody tr th {\n",
       "        vertical-align: top;\n",
       "    }\n",
       "\n",
       "    .dataframe thead th {\n",
       "        text-align: right;\n",
       "    }\n",
       "</style>\n",
       "<table border=\"1\" class=\"dataframe\">\n",
       "  <thead>\n",
       "    <tr style=\"text-align: right;\">\n",
       "      <th></th>\n",
       "      <th>Squad</th>\n",
       "      <th>team_Age</th>\n",
       "      <th>team_MP</th>\n",
       "      <th>team_Starts</th>\n",
       "      <th>team_Min</th>\n",
       "      <th>team_90s</th>\n",
       "    </tr>\n",
       "  </thead>\n",
       "  <tbody>\n",
       "    <tr>\n",
       "      <th>0</th>\n",
       "      <td>Arsenal</td>\n",
       "      <td>25.5</td>\n",
       "      <td>26</td>\n",
       "      <td>286</td>\n",
       "      <td>2340</td>\n",
       "      <td>26.0</td>\n",
       "    </tr>\n",
       "    <tr>\n",
       "      <th>1</th>\n",
       "      <td>Aston Villa</td>\n",
       "      <td>27.6</td>\n",
       "      <td>27</td>\n",
       "      <td>297</td>\n",
       "      <td>2430</td>\n",
       "      <td>27.0</td>\n",
       "    </tr>\n",
       "    <tr>\n",
       "      <th>2</th>\n",
       "      <td>Bournemouth</td>\n",
       "      <td>26.3</td>\n",
       "      <td>25</td>\n",
       "      <td>275</td>\n",
       "      <td>2250</td>\n",
       "      <td>25.0</td>\n",
       "    </tr>\n",
       "    <tr>\n",
       "      <th>3</th>\n",
       "      <td>Brentford</td>\n",
       "      <td>27.4</td>\n",
       "      <td>27</td>\n",
       "      <td>297</td>\n",
       "      <td>2430</td>\n",
       "      <td>27.0</td>\n",
       "    </tr>\n",
       "    <tr>\n",
       "      <th>4</th>\n",
       "      <td>Brighton</td>\n",
       "      <td>26.7</td>\n",
       "      <td>27</td>\n",
       "      <td>297</td>\n",
       "      <td>2430</td>\n",
       "      <td>27.0</td>\n",
       "    </tr>\n",
       "  </tbody>\n",
       "</table>\n",
       "</div>"
      ],
      "text/plain": [
       "         Squad  team_Age  team_MP  team_Starts  team_Min  team_90s\n",
       "0      Arsenal      25.5       26          286      2340      26.0\n",
       "1  Aston Villa      27.6       27          297      2430      27.0\n",
       "2  Bournemouth      26.3       25          275      2250      25.0\n",
       "3    Brentford      27.4       27          297      2430      27.0\n",
       "4     Brighton      26.7       27          297      2430      27.0"
      ]
     },
     "execution_count": 377,
     "metadata": {},
     "output_type": "execute_result"
    }
   ],
   "source": [
    "team_standard_stats.head()"
   ]
  },
  {
   "cell_type": "code",
   "execution_count": 365,
   "id": "de608368",
   "metadata": {},
   "outputs": [],
   "source": [
    "# Merge both dataframes into one dataframe\n",
    "merged_standard_stats = player_standard_stats.merge(team_standard_stats\n",
    "                            [[\"Squad\", \"team_Age\", \"team_MP\", \"team_Starts\", \"team_Min\", \"team_90s\"]], \n",
    "                                                    on = 'Squad', how = 'left')"
   ]
  },
  {
   "cell_type": "code",
   "execution_count": 376,
   "id": "67dbf21f",
   "metadata": {},
   "outputs": [
    {
     "data": {
      "text/html": [
       "<div>\n",
       "<style scoped>\n",
       "    .dataframe tbody tr th:only-of-type {\n",
       "        vertical-align: middle;\n",
       "    }\n",
       "\n",
       "    .dataframe tbody tr th {\n",
       "        vertical-align: top;\n",
       "    }\n",
       "\n",
       "    .dataframe thead th {\n",
       "        text-align: right;\n",
       "    }\n",
       "</style>\n",
       "<table border=\"1\" class=\"dataframe\">\n",
       "  <thead>\n",
       "    <tr style=\"text-align: right;\">\n",
       "      <th></th>\n",
       "      <th>Player</th>\n",
       "      <th>Nation</th>\n",
       "      <th>Pos</th>\n",
       "      <th>Squad</th>\n",
       "      <th>Age</th>\n",
       "      <th>Born</th>\n",
       "      <th>MP</th>\n",
       "      <th>Starts</th>\n",
       "      <th>Min</th>\n",
       "      <th>90s</th>\n",
       "      <th>team_Age</th>\n",
       "      <th>team_MP</th>\n",
       "      <th>team_Starts</th>\n",
       "      <th>team_Min</th>\n",
       "      <th>team_90s</th>\n",
       "    </tr>\n",
       "  </thead>\n",
       "  <tbody>\n",
       "    <tr>\n",
       "      <th>0</th>\n",
       "      <td>Max Aarons</td>\n",
       "      <td>eng ENG</td>\n",
       "      <td>DF</td>\n",
       "      <td>Bournemouth</td>\n",
       "      <td>24-059</td>\n",
       "      <td>2000</td>\n",
       "      <td>14</td>\n",
       "      <td>12</td>\n",
       "      <td>1085</td>\n",
       "      <td>12.1</td>\n",
       "      <td>26.3</td>\n",
       "      <td>25</td>\n",
       "      <td>275</td>\n",
       "      <td>2250</td>\n",
       "      <td>25.0</td>\n",
       "    </tr>\n",
       "    <tr>\n",
       "      <th>1</th>\n",
       "      <td>Bénie Adama Traore</td>\n",
       "      <td>ci CIV</td>\n",
       "      <td>FW,MF</td>\n",
       "      <td>Sheffield Utd</td>\n",
       "      <td>21-094</td>\n",
       "      <td>2002</td>\n",
       "      <td>8</td>\n",
       "      <td>3</td>\n",
       "      <td>387</td>\n",
       "      <td>4.3</td>\n",
       "      <td>26.6</td>\n",
       "      <td>26</td>\n",
       "      <td>286</td>\n",
       "      <td>2340</td>\n",
       "      <td>26.0</td>\n",
       "    </tr>\n",
       "    <tr>\n",
       "      <th>2</th>\n",
       "      <td>Tosin Adarabioyo</td>\n",
       "      <td>eng ENG</td>\n",
       "      <td>DF</td>\n",
       "      <td>Fulham</td>\n",
       "      <td>26-161</td>\n",
       "      <td>1997</td>\n",
       "      <td>13</td>\n",
       "      <td>11</td>\n",
       "      <td>993</td>\n",
       "      <td>11.0</td>\n",
       "      <td>29.3</td>\n",
       "      <td>27</td>\n",
       "      <td>297</td>\n",
       "      <td>2430</td>\n",
       "      <td>27.0</td>\n",
       "    </tr>\n",
       "    <tr>\n",
       "      <th>3</th>\n",
       "      <td>Elijah Adebayo</td>\n",
       "      <td>eng ENG</td>\n",
       "      <td>FW</td>\n",
       "      <td>Luton Town</td>\n",
       "      <td>26-056</td>\n",
       "      <td>1998</td>\n",
       "      <td>23</td>\n",
       "      <td>13</td>\n",
       "      <td>1162</td>\n",
       "      <td>12.9</td>\n",
       "      <td>27.4</td>\n",
       "      <td>26</td>\n",
       "      <td>286</td>\n",
       "      <td>2340</td>\n",
       "      <td>26.0</td>\n",
       "    </tr>\n",
       "    <tr>\n",
       "      <th>4</th>\n",
       "      <td>Simon Adingra</td>\n",
       "      <td>ci CIV</td>\n",
       "      <td>FW</td>\n",
       "      <td>Brighton</td>\n",
       "      <td>22-062</td>\n",
       "      <td>2002</td>\n",
       "      <td>20</td>\n",
       "      <td>15</td>\n",
       "      <td>1367</td>\n",
       "      <td>15.2</td>\n",
       "      <td>26.7</td>\n",
       "      <td>27</td>\n",
       "      <td>297</td>\n",
       "      <td>2430</td>\n",
       "      <td>27.0</td>\n",
       "    </tr>\n",
       "  </tbody>\n",
       "</table>\n",
       "</div>"
      ],
      "text/plain": [
       "               Player   Nation    Pos          Squad     Age  Born  MP Starts  \\\n",
       "0          Max Aarons  eng ENG     DF    Bournemouth  24-059  2000  14     12   \n",
       "1  Bénie Adama Traore   ci CIV  FW,MF  Sheffield Utd  21-094  2002   8      3   \n",
       "2    Tosin Adarabioyo  eng ENG     DF         Fulham  26-161  1997  13     11   \n",
       "3      Elijah Adebayo  eng ENG     FW     Luton Town  26-056  1998  23     13   \n",
       "4       Simon Adingra   ci CIV     FW       Brighton  22-062  2002  20     15   \n",
       "\n",
       "    Min   90s  team_Age  team_MP  team_Starts  team_Min  team_90s  \n",
       "0  1085  12.1      26.3       25          275      2250      25.0  \n",
       "1   387   4.3      26.6       26          286      2340      26.0  \n",
       "2   993  11.0      29.3       27          297      2430      27.0  \n",
       "3  1162  12.9      27.4       26          286      2340      26.0  \n",
       "4  1367  15.2      26.7       27          297      2430      27.0  "
      ]
     },
     "execution_count": 376,
     "metadata": {},
     "output_type": "execute_result"
    }
   ],
   "source": [
    "merged_standard_stats.head()"
   ]
  },
  {
   "cell_type": "markdown",
   "id": "1833be3a",
   "metadata": {},
   "source": [
    "## Shooting stats"
   ]
  },
  {
   "cell_type": "markdown",
   "id": "0cd17837",
   "metadata": {},
   "source": [
    "### Player stats"
   ]
  },
  {
   "cell_type": "code",
   "execution_count": 379,
   "id": "8525cfd6",
   "metadata": {},
   "outputs": [],
   "source": [
    "# URL of shooting stats\n",
    "shooting_url = urls_stats[3]"
   ]
  },
  {
   "cell_type": "code",
   "execution_count": 380,
   "id": "cfbd896f",
   "metadata": {},
   "outputs": [],
   "source": [
    "# Download HTML of shooting page. Table is commented out. Therefore a replace.\n",
    "data_players = requests.get(shooting_url).text.replace('<!--','').replace('-->','')"
   ]
  },
  {
   "cell_type": "code",
   "execution_count": 369,
   "id": "97ed62bd",
   "metadata": {},
   "outputs": [],
   "source": [
    "# Wrap in a 'StringIO' object to read from a literal string\n",
    "data_players = StringIO(data_players)"
   ]
  },
  {
   "cell_type": "code",
   "execution_count": 381,
   "id": "c3545d68",
   "metadata": {
    "scrolled": false
   },
   "outputs": [],
   "source": [
    "# Create dataframe of player shooting stats\n",
    "player_shooting_stats = pd.read_html(data, attrs = {'id':'stats_shooting'})[0]"
   ]
  },
  {
   "cell_type": "code",
   "execution_count": 382,
   "id": "af319eb5",
   "metadata": {
    "scrolled": false
   },
   "outputs": [],
   "source": [
    "# Drop the first level of the dataframe\n",
    "player_shooting_stats.columns = player_shooting_stats.columns.droplevel()"
   ]
  },
  {
   "cell_type": "code",
   "execution_count": 383,
   "id": "9af1e717",
   "metadata": {},
   "outputs": [],
   "source": [
    "# Drop rows where column names occur because of the 'folded' table\n",
    "player_shooting_stats = player_shooting_stats.loc[player_shooting_stats['Player'] != 'Player']"
   ]
  },
  {
   "cell_type": "code",
   "execution_count": null,
   "id": "e6737070",
   "metadata": {},
   "outputs": [],
   "source": [
    "# Keep only relevant columns\n",
    "player_shooting_stats = player_shooting_stats[[\"Player\", \"Nation\", \"Pos\", \"Squad\", \"Age\", \"Born\", \"MP\", \"Starts\",\n",
    "                                              \"Min\", \"90s\"]]"
   ]
  },
  {
   "cell_type": "code",
   "execution_count": 384,
   "id": "dba12b01",
   "metadata": {
    "scrolled": false
   },
   "outputs": [
    {
     "data": {
      "text/html": [
       "<div>\n",
       "<style scoped>\n",
       "    .dataframe tbody tr th:only-of-type {\n",
       "        vertical-align: middle;\n",
       "    }\n",
       "\n",
       "    .dataframe tbody tr th {\n",
       "        vertical-align: top;\n",
       "    }\n",
       "\n",
       "    .dataframe thead th {\n",
       "        text-align: right;\n",
       "    }\n",
       "</style>\n",
       "<table border=\"1\" class=\"dataframe\">\n",
       "  <thead>\n",
       "    <tr style=\"text-align: right;\">\n",
       "      <th></th>\n",
       "      <th>Rk</th>\n",
       "      <th>Player</th>\n",
       "      <th>Nation</th>\n",
       "      <th>Pos</th>\n",
       "      <th>Squad</th>\n",
       "      <th>Age</th>\n",
       "      <th>Born</th>\n",
       "      <th>90s</th>\n",
       "      <th>Gls</th>\n",
       "      <th>Sh</th>\n",
       "      <th>...</th>\n",
       "      <th>Dist</th>\n",
       "      <th>FK</th>\n",
       "      <th>PK</th>\n",
       "      <th>PKatt</th>\n",
       "      <th>xG</th>\n",
       "      <th>npxG</th>\n",
       "      <th>npxG/Sh</th>\n",
       "      <th>G-xG</th>\n",
       "      <th>np:G-xG</th>\n",
       "      <th>Matches</th>\n",
       "    </tr>\n",
       "  </thead>\n",
       "  <tbody>\n",
       "    <tr>\n",
       "      <th>0</th>\n",
       "      <td>1</td>\n",
       "      <td>Max Aarons</td>\n",
       "      <td>eng ENG</td>\n",
       "      <td>DF</td>\n",
       "      <td>Bournemouth</td>\n",
       "      <td>24-059</td>\n",
       "      <td>2000</td>\n",
       "      <td>12.1</td>\n",
       "      <td>0</td>\n",
       "      <td>1</td>\n",
       "      <td>...</td>\n",
       "      <td>23.9</td>\n",
       "      <td>0</td>\n",
       "      <td>0</td>\n",
       "      <td>0</td>\n",
       "      <td>0.0</td>\n",
       "      <td>0.0</td>\n",
       "      <td>0.02</td>\n",
       "      <td>0.0</td>\n",
       "      <td>0.0</td>\n",
       "      <td>Matches</td>\n",
       "    </tr>\n",
       "    <tr>\n",
       "      <th>1</th>\n",
       "      <td>2</td>\n",
       "      <td>Bénie Adama Traore</td>\n",
       "      <td>ci CIV</td>\n",
       "      <td>FW,MF</td>\n",
       "      <td>Sheffield Utd</td>\n",
       "      <td>21-094</td>\n",
       "      <td>2002</td>\n",
       "      <td>4.3</td>\n",
       "      <td>0</td>\n",
       "      <td>1</td>\n",
       "      <td>...</td>\n",
       "      <td>15.3</td>\n",
       "      <td>0</td>\n",
       "      <td>0</td>\n",
       "      <td>0</td>\n",
       "      <td>0.3</td>\n",
       "      <td>0.3</td>\n",
       "      <td>0.27</td>\n",
       "      <td>-0.3</td>\n",
       "      <td>-0.3</td>\n",
       "      <td>Matches</td>\n",
       "    </tr>\n",
       "    <tr>\n",
       "      <th>2</th>\n",
       "      <td>3</td>\n",
       "      <td>Tosin Adarabioyo</td>\n",
       "      <td>eng ENG</td>\n",
       "      <td>DF</td>\n",
       "      <td>Fulham</td>\n",
       "      <td>26-161</td>\n",
       "      <td>1997</td>\n",
       "      <td>11.0</td>\n",
       "      <td>1</td>\n",
       "      <td>9</td>\n",
       "      <td>...</td>\n",
       "      <td>16.2</td>\n",
       "      <td>0</td>\n",
       "      <td>0</td>\n",
       "      <td>0</td>\n",
       "      <td>0.3</td>\n",
       "      <td>0.3</td>\n",
       "      <td>0.04</td>\n",
       "      <td>+0.7</td>\n",
       "      <td>+0.7</td>\n",
       "      <td>Matches</td>\n",
       "    </tr>\n",
       "    <tr>\n",
       "      <th>3</th>\n",
       "      <td>4</td>\n",
       "      <td>Elijah Adebayo</td>\n",
       "      <td>eng ENG</td>\n",
       "      <td>FW</td>\n",
       "      <td>Luton Town</td>\n",
       "      <td>26-056</td>\n",
       "      <td>1998</td>\n",
       "      <td>12.9</td>\n",
       "      <td>9</td>\n",
       "      <td>28</td>\n",
       "      <td>...</td>\n",
       "      <td>9.5</td>\n",
       "      <td>0</td>\n",
       "      <td>0</td>\n",
       "      <td>0</td>\n",
       "      <td>5.6</td>\n",
       "      <td>5.6</td>\n",
       "      <td>0.20</td>\n",
       "      <td>+3.4</td>\n",
       "      <td>+3.4</td>\n",
       "      <td>Matches</td>\n",
       "    </tr>\n",
       "    <tr>\n",
       "      <th>4</th>\n",
       "      <td>5</td>\n",
       "      <td>Simon Adingra</td>\n",
       "      <td>ci CIV</td>\n",
       "      <td>FW</td>\n",
       "      <td>Brighton</td>\n",
       "      <td>22-062</td>\n",
       "      <td>2002</td>\n",
       "      <td>15.2</td>\n",
       "      <td>6</td>\n",
       "      <td>31</td>\n",
       "      <td>...</td>\n",
       "      <td>15.8</td>\n",
       "      <td>0</td>\n",
       "      <td>0</td>\n",
       "      <td>0</td>\n",
       "      <td>3.0</td>\n",
       "      <td>3.0</td>\n",
       "      <td>0.10</td>\n",
       "      <td>+3.0</td>\n",
       "      <td>+3.0</td>\n",
       "      <td>Matches</td>\n",
       "    </tr>\n",
       "  </tbody>\n",
       "</table>\n",
       "<p>5 rows × 26 columns</p>\n",
       "</div>"
      ],
      "text/plain": [
       "  Rk              Player   Nation    Pos          Squad     Age  Born   90s  \\\n",
       "0  1          Max Aarons  eng ENG     DF    Bournemouth  24-059  2000  12.1   \n",
       "1  2  Bénie Adama Traore   ci CIV  FW,MF  Sheffield Utd  21-094  2002   4.3   \n",
       "2  3    Tosin Adarabioyo  eng ENG     DF         Fulham  26-161  1997  11.0   \n",
       "3  4      Elijah Adebayo  eng ENG     FW     Luton Town  26-056  1998  12.9   \n",
       "4  5       Simon Adingra   ci CIV     FW       Brighton  22-062  2002  15.2   \n",
       "\n",
       "  Gls  Sh  ...  Dist FK PK PKatt   xG npxG npxG/Sh  G-xG np:G-xG  Matches  \n",
       "0   0   1  ...  23.9  0  0     0  0.0  0.0    0.02   0.0     0.0  Matches  \n",
       "1   0   1  ...  15.3  0  0     0  0.3  0.3    0.27  -0.3    -0.3  Matches  \n",
       "2   1   9  ...  16.2  0  0     0  0.3  0.3    0.04  +0.7    +0.7  Matches  \n",
       "3   9  28  ...   9.5  0  0     0  5.6  5.6    0.20  +3.4    +3.4  Matches  \n",
       "4   6  31  ...  15.8  0  0     0  3.0  3.0    0.10  +3.0    +3.0  Matches  \n",
       "\n",
       "[5 rows x 26 columns]"
      ]
     },
     "execution_count": 384,
     "metadata": {},
     "output_type": "execute_result"
    }
   ],
   "source": [
    "# Show first five rows of dataframe\n",
    "player_shooting_stats.head()"
   ]
  },
  {
   "cell_type": "markdown",
   "id": "775ad1ad",
   "metadata": {},
   "source": [
    "### Team stats"
   ]
  },
  {
   "cell_type": "code",
   "execution_count": 385,
   "id": "5f3b6f3e",
   "metadata": {
    "scrolled": true
   },
   "outputs": [],
   "source": [
    "# Download HTML of shooting page\n",
    "data_teams = requests.get(shooting_url)"
   ]
  },
  {
   "cell_type": "code",
   "execution_count": 387,
   "id": "2ca1e0f3",
   "metadata": {
    "scrolled": true
   },
   "outputs": [
    {
     "name": "stderr",
     "output_type": "stream",
     "text": [
      "/var/folders/qq/jf2q9_1s1ln_cgch_rjpr1fm0000gn/T/ipykernel_96527/1401417894.py:2: FutureWarning: Passing literal html to 'read_html' is deprecated and will be removed in a future version. To read from a literal string, wrap it in a 'StringIO' object.\n",
      "  team_shooting_stats = pd.read_html(data_teams.text, match = \"Squad Shooting\")[0]\n"
     ]
    }
   ],
   "source": [
    "# Create dataframe of team shooting stats of first table on the page. Note: could not solve StringIO error-message here.\n",
    "team_shooting_stats = pd.read_html(data_teams.text, match = \"Squad Shooting\")[0]"
   ]
  },
  {
   "cell_type": "code",
   "execution_count": 388,
   "id": "5857aa01",
   "metadata": {},
   "outputs": [],
   "source": [
    "# Drop the first level of the dataframe\n",
    "team_shooting_stats.columns = team_shooting_stats.columns.droplevel()"
   ]
  },
  {
   "cell_type": "code",
   "execution_count": null,
   "id": "7ab782ea",
   "metadata": {},
   "outputs": [],
   "source": [
    "# Keep only relevant columns\n",
    "team_shooting_stats = team_shooting_stats[[\"Squad\", \"Age\", \"MP\", \"Starts\", \"Min\", \"90s\"]]"
   ]
  },
  {
   "cell_type": "code",
   "execution_count": 389,
   "id": "db8aedfc",
   "metadata": {
    "scrolled": true
   },
   "outputs": [
    {
     "data": {
      "text/html": [
       "<div>\n",
       "<style scoped>\n",
       "    .dataframe tbody tr th:only-of-type {\n",
       "        vertical-align: middle;\n",
       "    }\n",
       "\n",
       "    .dataframe tbody tr th {\n",
       "        vertical-align: top;\n",
       "    }\n",
       "\n",
       "    .dataframe thead th {\n",
       "        text-align: right;\n",
       "    }\n",
       "</style>\n",
       "<table border=\"1\" class=\"dataframe\">\n",
       "  <thead>\n",
       "    <tr style=\"text-align: right;\">\n",
       "      <th></th>\n",
       "      <th>Squad</th>\n",
       "      <th># Pl</th>\n",
       "      <th>90s</th>\n",
       "      <th>Gls</th>\n",
       "      <th>Sh</th>\n",
       "      <th>SoT</th>\n",
       "      <th>SoT%</th>\n",
       "      <th>Sh/90</th>\n",
       "      <th>SoT/90</th>\n",
       "      <th>G/Sh</th>\n",
       "      <th>G/SoT</th>\n",
       "      <th>Dist</th>\n",
       "      <th>FK</th>\n",
       "      <th>PK</th>\n",
       "      <th>PKatt</th>\n",
       "      <th>xG</th>\n",
       "      <th>npxG</th>\n",
       "      <th>npxG/Sh</th>\n",
       "      <th>G-xG</th>\n",
       "      <th>np:G-xG</th>\n",
       "    </tr>\n",
       "  </thead>\n",
       "  <tbody>\n",
       "    <tr>\n",
       "      <th>0</th>\n",
       "      <td>Arsenal</td>\n",
       "      <td>25</td>\n",
       "      <td>26.0</td>\n",
       "      <td>60</td>\n",
       "      <td>431</td>\n",
       "      <td>139</td>\n",
       "      <td>32.3</td>\n",
       "      <td>16.58</td>\n",
       "      <td>5.35</td>\n",
       "      <td>0.12</td>\n",
       "      <td>0.37</td>\n",
       "      <td>16.0</td>\n",
       "      <td>3</td>\n",
       "      <td>8</td>\n",
       "      <td>8</td>\n",
       "      <td>53.1</td>\n",
       "      <td>47.0</td>\n",
       "      <td>0.11</td>\n",
       "      <td>6.9</td>\n",
       "      <td>5.0</td>\n",
       "    </tr>\n",
       "    <tr>\n",
       "      <th>1</th>\n",
       "      <td>Aston Villa</td>\n",
       "      <td>28</td>\n",
       "      <td>27.0</td>\n",
       "      <td>56</td>\n",
       "      <td>394</td>\n",
       "      <td>146</td>\n",
       "      <td>37.1</td>\n",
       "      <td>14.59</td>\n",
       "      <td>5.41</td>\n",
       "      <td>0.13</td>\n",
       "      <td>0.36</td>\n",
       "      <td>16.2</td>\n",
       "      <td>13</td>\n",
       "      <td>4</td>\n",
       "      <td>4</td>\n",
       "      <td>50.1</td>\n",
       "      <td>47.0</td>\n",
       "      <td>0.12</td>\n",
       "      <td>5.9</td>\n",
       "      <td>5.0</td>\n",
       "    </tr>\n",
       "    <tr>\n",
       "      <th>2</th>\n",
       "      <td>Bournemouth</td>\n",
       "      <td>27</td>\n",
       "      <td>25.0</td>\n",
       "      <td>33</td>\n",
       "      <td>333</td>\n",
       "      <td>109</td>\n",
       "      <td>32.7</td>\n",
       "      <td>13.32</td>\n",
       "      <td>4.36</td>\n",
       "      <td>0.10</td>\n",
       "      <td>0.29</td>\n",
       "      <td>16.7</td>\n",
       "      <td>10</td>\n",
       "      <td>1</td>\n",
       "      <td>1</td>\n",
       "      <td>35.8</td>\n",
       "      <td>35.0</td>\n",
       "      <td>0.11</td>\n",
       "      <td>-2.8</td>\n",
       "      <td>-3.0</td>\n",
       "    </tr>\n",
       "    <tr>\n",
       "      <th>3</th>\n",
       "      <td>Brentford</td>\n",
       "      <td>28</td>\n",
       "      <td>27.0</td>\n",
       "      <td>38</td>\n",
       "      <td>340</td>\n",
       "      <td>111</td>\n",
       "      <td>32.6</td>\n",
       "      <td>12.59</td>\n",
       "      <td>4.11</td>\n",
       "      <td>0.10</td>\n",
       "      <td>0.32</td>\n",
       "      <td>15.1</td>\n",
       "      <td>12</td>\n",
       "      <td>3</td>\n",
       "      <td>3</td>\n",
       "      <td>43.0</td>\n",
       "      <td>40.8</td>\n",
       "      <td>0.12</td>\n",
       "      <td>-5.0</td>\n",
       "      <td>-5.8</td>\n",
       "    </tr>\n",
       "    <tr>\n",
       "      <th>4</th>\n",
       "      <td>Brighton</td>\n",
       "      <td>27</td>\n",
       "      <td>27.0</td>\n",
       "      <td>46</td>\n",
       "      <td>404</td>\n",
       "      <td>157</td>\n",
       "      <td>38.9</td>\n",
       "      <td>14.96</td>\n",
       "      <td>5.81</td>\n",
       "      <td>0.10</td>\n",
       "      <td>0.26</td>\n",
       "      <td>16.5</td>\n",
       "      <td>10</td>\n",
       "      <td>5</td>\n",
       "      <td>5</td>\n",
       "      <td>44.9</td>\n",
       "      <td>41.2</td>\n",
       "      <td>0.10</td>\n",
       "      <td>1.1</td>\n",
       "      <td>-0.2</td>\n",
       "    </tr>\n",
       "  </tbody>\n",
       "</table>\n",
       "</div>"
      ],
      "text/plain": [
       "         Squad  # Pl   90s  Gls   Sh  SoT  SoT%  Sh/90  SoT/90  G/Sh  G/SoT  \\\n",
       "0      Arsenal    25  26.0   60  431  139  32.3  16.58    5.35  0.12   0.37   \n",
       "1  Aston Villa    28  27.0   56  394  146  37.1  14.59    5.41  0.13   0.36   \n",
       "2  Bournemouth    27  25.0   33  333  109  32.7  13.32    4.36  0.10   0.29   \n",
       "3    Brentford    28  27.0   38  340  111  32.6  12.59    4.11  0.10   0.32   \n",
       "4     Brighton    27  27.0   46  404  157  38.9  14.96    5.81  0.10   0.26   \n",
       "\n",
       "   Dist  FK  PK  PKatt    xG  npxG  npxG/Sh  G-xG  np:G-xG  \n",
       "0  16.0   3   8      8  53.1  47.0     0.11   6.9      5.0  \n",
       "1  16.2  13   4      4  50.1  47.0     0.12   5.9      5.0  \n",
       "2  16.7  10   1      1  35.8  35.0     0.11  -2.8     -3.0  \n",
       "3  15.1  12   3      3  43.0  40.8     0.12  -5.0     -5.8  \n",
       "4  16.5  10   5      5  44.9  41.2     0.10   1.1     -0.2  "
      ]
     },
     "execution_count": 389,
     "metadata": {},
     "output_type": "execute_result"
    }
   ],
   "source": [
    "# Show first five rows of dataframe\n",
    "team_shooting_stats.head()"
   ]
  },
  {
   "cell_type": "code",
   "execution_count": 190,
   "id": "009fb210",
   "metadata": {},
   "outputs": [],
   "source": [
    "# Specify columns to add a prefix to\n",
    "cols = team_shooting_stats.loc[:, team_shooting_stats.columns != \"Squad\"]"
   ]
  },
  {
   "cell_type": "code",
   "execution_count": 191,
   "id": "4be7b518",
   "metadata": {},
   "outputs": [],
   "source": [
    "# Add \"team_\" in front of team variables to distinguish between player stats\n",
    "team_shooting_stats = team_shooting_stats.rename(columns = {c: 'team_' + c for c in team_shooting_stats.columns if c in cols})"
   ]
  },
  {
   "cell_type": "code",
   "execution_count": null,
   "id": "31a7118a",
   "metadata": {},
   "outputs": [],
   "source": [
    "# Create a loop \n",
    "for competition in list_competitions:\n",
    "    "
   ]
  }
 ],
 "metadata": {
  "kernelspec": {
   "display_name": "Python 3 (ipykernel)",
   "language": "python",
   "name": "python3"
  },
  "language_info": {
   "codemirror_mode": {
    "name": "ipython",
    "version": 3
   },
   "file_extension": ".py",
   "mimetype": "text/x-python",
   "name": "python",
   "nbconvert_exporter": "python",
   "pygments_lexer": "ipython3",
   "version": "3.11.5"
  }
 },
 "nbformat": 4,
 "nbformat_minor": 5
}
