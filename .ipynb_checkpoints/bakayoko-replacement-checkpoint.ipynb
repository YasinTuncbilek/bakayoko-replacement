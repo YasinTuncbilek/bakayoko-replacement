{
 "cells": [
  {
   "cell_type": "markdown",
   "id": "47b8d509",
   "metadata": {},
   "source": [
    "# Analysis: Bakayoko replacement"
   ]
  },
  {
   "cell_type": "code",
   "execution_count": null,
   "id": "3090b2f8",
   "metadata": {},
   "outputs": [],
   "source": [
    "# Analysis: Bakayoko replacement\n",
    "# Name: Yasin Tunçbilek\n",
    "# Date: 9 February 2024"
   ]
  },
  {
   "cell_type": "code",
   "execution_count": 1,
   "id": "d335d9ac",
   "metadata": {},
   "outputs": [],
   "source": [
    "# Library to send HTTP requests\n",
    "import requests"
   ]
  },
  {
   "cell_type": "code",
   "execution_count": 7,
   "id": "8fc3208d",
   "metadata": {},
   "outputs": [],
   "source": [
    "# URL of Eredivisie stats\n",
    "eredivisie_url = \"https://fbref.com/en/comps/23/stats/Eredivisie-Stats\""
   ]
  },
  {
   "cell_type": "code",
   "execution_count": null,
   "id": "c94ca981",
   "metadata": {},
   "outputs": [],
   "source": [
    "# Download HTML of Eredivisie page\n",
    "data = requests.get(eredivisie_url)"
   ]
  },
  {
   "cell_type": "code",
   "execution_count": 12,
   "id": "bdbfbd43",
   "metadata": {},
   "outputs": [],
   "source": [
    "# Library to parse HTML\n",
    "from bs4 import BeautifulSoup"
   ]
  },
  {
   "cell_type": "code",
   "execution_count": 38,
   "id": "290ca5e5",
   "metadata": {},
   "outputs": [],
   "source": [
    "# Initialise library with downloaded HTML\n",
    "soup = BeautifulSoup(data.text)"
   ]
  },
  {
   "cell_type": "code",
   "execution_count": 65,
   "id": "5be5ce71",
   "metadata": {},
   "outputs": [],
   "source": [
    "# Select menu where URLs to various stats reside in\n",
    "menu_stats = soup.select('li.full.current.hasmore')[0]"
   ]
  },
  {
   "cell_type": "code",
   "execution_count": 66,
   "id": "65115a22",
   "metadata": {},
   "outputs": [],
   "source": [
    "# Find all tags where URLs to various stats reside in\n",
    "urls_stats = menu_stats.find_all('a')"
   ]
  },
  {
   "cell_type": "code",
   "execution_count": 68,
   "id": "cb9538cd",
   "metadata": {},
   "outputs": [],
   "source": [
    "# Get href property of each link\n",
    "urls_stats = [u.get(\"href\") for u in urls_stats]"
   ]
  },
  {
   "cell_type": "code",
   "execution_count": 69,
   "id": "14ce5614",
   "metadata": {},
   "outputs": [],
   "source": [
    "# Make full URLs\n",
    "urls_stats = [f\"https://fbref.com{l}\" for l in urls_stats]"
   ]
  },
  {
   "cell_type": "code",
   "execution_count": 70,
   "id": "2805c9fe",
   "metadata": {},
   "outputs": [
    {
     "data": {
      "text/plain": [
       "['https://fbref.com/en/comps/23/stats/Eredivisie-Stats',\n",
       " 'https://fbref.com/en/comps/23/keepers/Eredivisie-Stats',\n",
       " 'https://fbref.com/en/comps/23/keepersadv/Eredivisie-Stats',\n",
       " 'https://fbref.com/en/comps/23/shooting/Eredivisie-Stats',\n",
       " 'https://fbref.com/en/comps/23/passing/Eredivisie-Stats',\n",
       " 'https://fbref.com/en/comps/23/passing_types/Eredivisie-Stats',\n",
       " 'https://fbref.com/en/comps/23/gca/Eredivisie-Stats',\n",
       " 'https://fbref.com/en/comps/23/defense/Eredivisie-Stats',\n",
       " 'https://fbref.com/en/comps/23/possession/Eredivisie-Stats',\n",
       " 'https://fbref.com/en/comps/23/playingtime/Eredivisie-Stats',\n",
       " 'https://fbref.com/en/comps/23/misc/Eredivisie-Stats']"
      ]
     },
     "execution_count": 70,
     "metadata": {},
     "output_type": "execute_result"
    }
   ],
   "source": [
    "urls_stats"
   ]
  },
  {
   "cell_type": "code",
   "execution_count": 71,
   "id": "3f970857",
   "metadata": {},
   "outputs": [],
   "source": [
    "# URL of shooting stats\n",
    "shooting_url = urls_stats[3]"
   ]
  },
  {
   "cell_type": "code",
   "execution_count": 182,
   "id": "745b33a5",
   "metadata": {},
   "outputs": [],
   "source": [
    "# Download HTML of shooting page. Table is commented out. Therefore a replace.\n",
    "data = requests.get(shooting_url).text.replace('<!--','').replace('-->','')"
   ]
  },
  {
   "cell_type": "code",
   "execution_count": 203,
   "id": "d9aecfc4",
   "metadata": {},
   "outputs": [],
   "source": [
    "# Library to deal with various types of I/O. Needed because read_html gives an error.\n",
    "from io import StringIO"
   ]
  },
  {
   "cell_type": "code",
   "execution_count": 183,
   "id": "8cc6dfa1",
   "metadata": {},
   "outputs": [],
   "source": [
    "# Wrap in a 'StringIO' object to read from a literal string\n",
    "data = StringIO(data)"
   ]
  },
  {
   "cell_type": "code",
   "execution_count": 83,
   "id": "ac430e55",
   "metadata": {},
   "outputs": [],
   "source": [
    "# Pandas library for data analysis and manipulation\n",
    "import pandas as pd"
   ]
  },
  {
   "cell_type": "code",
   "execution_count": 191,
   "id": "b92a3233",
   "metadata": {
    "scrolled": false
   },
   "outputs": [],
   "source": [
    "# Create dataframe of player shooting stats\n",
    "player_shooting_stats = pd.read_html(data, attrs = {'id':'stats_shooting'})[0]"
   ]
  },
  {
   "cell_type": "code",
   "execution_count": 193,
   "id": "942bfe82",
   "metadata": {
    "scrolled": false
   },
   "outputs": [],
   "source": [
    "# Drop the first level of the dataframe\n",
    "player_shooting_stats.columns = player_shooting_stats.columns.droplevel()"
   ]
  },
  {
   "cell_type": "code",
   "execution_count": 194,
   "id": "4e367b7f",
   "metadata": {
    "scrolled": true
   },
   "outputs": [
    {
     "data": {
      "text/html": [
       "<div>\n",
       "<style scoped>\n",
       "    .dataframe tbody tr th:only-of-type {\n",
       "        vertical-align: middle;\n",
       "    }\n",
       "\n",
       "    .dataframe tbody tr th {\n",
       "        vertical-align: top;\n",
       "    }\n",
       "\n",
       "    .dataframe thead th {\n",
       "        text-align: right;\n",
       "    }\n",
       "</style>\n",
       "<table border=\"1\" class=\"dataframe\">\n",
       "  <thead>\n",
       "    <tr style=\"text-align: right;\">\n",
       "      <th></th>\n",
       "      <th>Rk</th>\n",
       "      <th>Player</th>\n",
       "      <th>Nation</th>\n",
       "      <th>Pos</th>\n",
       "      <th>Squad</th>\n",
       "      <th>Age</th>\n",
       "      <th>Born</th>\n",
       "      <th>90s</th>\n",
       "      <th>Gls</th>\n",
       "      <th>Sh</th>\n",
       "      <th>...</th>\n",
       "      <th>Dist</th>\n",
       "      <th>FK</th>\n",
       "      <th>PK</th>\n",
       "      <th>PKatt</th>\n",
       "      <th>xG</th>\n",
       "      <th>npxG</th>\n",
       "      <th>npxG/Sh</th>\n",
       "      <th>G-xG</th>\n",
       "      <th>np:G-xG</th>\n",
       "      <th>Matches</th>\n",
       "    </tr>\n",
       "  </thead>\n",
       "  <tbody>\n",
       "    <tr>\n",
       "      <th>0</th>\n",
       "      <td>1</td>\n",
       "      <td>Patrick van Aanholt</td>\n",
       "      <td>nl NED</td>\n",
       "      <td>DF</td>\n",
       "      <td>PSV Eindhoven</td>\n",
       "      <td>33-164</td>\n",
       "      <td>1990</td>\n",
       "      <td>10.7</td>\n",
       "      <td>0</td>\n",
       "      <td>22</td>\n",
       "      <td>...</td>\n",
       "      <td>20.5</td>\n",
       "      <td>1</td>\n",
       "      <td>0</td>\n",
       "      <td>0</td>\n",
       "      <td>1.6</td>\n",
       "      <td>1.6</td>\n",
       "      <td>0.07</td>\n",
       "      <td>-1.6</td>\n",
       "      <td>-1.6</td>\n",
       "      <td>Matches</td>\n",
       "    </tr>\n",
       "    <tr>\n",
       "      <th>1</th>\n",
       "      <td>2</td>\n",
       "      <td>Jayden Addai</td>\n",
       "      <td>gh GHA</td>\n",
       "      <td>FW</td>\n",
       "      <td>AZ Alkmaar</td>\n",
       "      <td>18-167</td>\n",
       "      <td>2005</td>\n",
       "      <td>2.0</td>\n",
       "      <td>0</td>\n",
       "      <td>2</td>\n",
       "      <td>...</td>\n",
       "      <td>16.8</td>\n",
       "      <td>0</td>\n",
       "      <td>0</td>\n",
       "      <td>0</td>\n",
       "      <td>0.1</td>\n",
       "      <td>0.1</td>\n",
       "      <td>0.03</td>\n",
       "      <td>-0.1</td>\n",
       "      <td>-0.1</td>\n",
       "      <td>Matches</td>\n",
       "    </tr>\n",
       "    <tr>\n",
       "      <th>2</th>\n",
       "      <td>3</td>\n",
       "      <td>Bobby Adekanye</td>\n",
       "      <td>nl NED</td>\n",
       "      <td>FW,MF</td>\n",
       "      <td>Go Ahead Eag</td>\n",
       "      <td>24-360</td>\n",
       "      <td>1999</td>\n",
       "      <td>11.1</td>\n",
       "      <td>0</td>\n",
       "      <td>19</td>\n",
       "      <td>...</td>\n",
       "      <td>19.6</td>\n",
       "      <td>0</td>\n",
       "      <td>0</td>\n",
       "      <td>0</td>\n",
       "      <td>1.3</td>\n",
       "      <td>1.3</td>\n",
       "      <td>0.07</td>\n",
       "      <td>-1.3</td>\n",
       "      <td>-1.3</td>\n",
       "      <td>Matches</td>\n",
       "    </tr>\n",
       "    <tr>\n",
       "      <th>3</th>\n",
       "      <td>4</td>\n",
       "      <td>Shawn Adewoye</td>\n",
       "      <td>be BEL</td>\n",
       "      <td>DF</td>\n",
       "      <td>RKC Waalwijk</td>\n",
       "      <td>23-225</td>\n",
       "      <td>2000</td>\n",
       "      <td>15.1</td>\n",
       "      <td>0</td>\n",
       "      <td>11</td>\n",
       "      <td>...</td>\n",
       "      <td>11.7</td>\n",
       "      <td>0</td>\n",
       "      <td>0</td>\n",
       "      <td>0</td>\n",
       "      <td>0.9</td>\n",
       "      <td>0.9</td>\n",
       "      <td>0.09</td>\n",
       "      <td>-0.9</td>\n",
       "      <td>-0.9</td>\n",
       "      <td>Matches</td>\n",
       "    </tr>\n",
       "    <tr>\n",
       "      <th>4</th>\n",
       "      <td>5</td>\n",
       "      <td>Nikolas Agrafiotis</td>\n",
       "      <td>nl NED</td>\n",
       "      <td>FW</td>\n",
       "      <td>Excelsior</td>\n",
       "      <td>23-290</td>\n",
       "      <td>2000</td>\n",
       "      <td>8.4</td>\n",
       "      <td>5</td>\n",
       "      <td>29</td>\n",
       "      <td>...</td>\n",
       "      <td>14.7</td>\n",
       "      <td>0</td>\n",
       "      <td>0</td>\n",
       "      <td>0</td>\n",
       "      <td>4.0</td>\n",
       "      <td>4.0</td>\n",
       "      <td>0.14</td>\n",
       "      <td>+1.0</td>\n",
       "      <td>+1.0</td>\n",
       "      <td>Matches</td>\n",
       "    </tr>\n",
       "  </tbody>\n",
       "</table>\n",
       "<p>5 rows × 26 columns</p>\n",
       "</div>"
      ],
      "text/plain": [
       "  Rk               Player  Nation    Pos          Squad     Age  Born   90s  \\\n",
       "0  1  Patrick van Aanholt  nl NED     DF  PSV Eindhoven  33-164  1990  10.7   \n",
       "1  2         Jayden Addai  gh GHA     FW     AZ Alkmaar  18-167  2005   2.0   \n",
       "2  3       Bobby Adekanye  nl NED  FW,MF   Go Ahead Eag  24-360  1999  11.1   \n",
       "3  4        Shawn Adewoye  be BEL     DF   RKC Waalwijk  23-225  2000  15.1   \n",
       "4  5   Nikolas Agrafiotis  nl NED     FW      Excelsior  23-290  2000   8.4   \n",
       "\n",
       "  Gls  Sh  ...  Dist FK PK PKatt   xG npxG npxG/Sh  G-xG np:G-xG  Matches  \n",
       "0   0  22  ...  20.5  1  0     0  1.6  1.6    0.07  -1.6    -1.6  Matches  \n",
       "1   0   2  ...  16.8  0  0     0  0.1  0.1    0.03  -0.1    -0.1  Matches  \n",
       "2   0  19  ...  19.6  0  0     0  1.3  1.3    0.07  -1.3    -1.3  Matches  \n",
       "3   0  11  ...  11.7  0  0     0  0.9  0.9    0.09  -0.9    -0.9  Matches  \n",
       "4   5  29  ...  14.7  0  0     0  4.0  4.0    0.14  +1.0    +1.0  Matches  \n",
       "\n",
       "[5 rows x 26 columns]"
      ]
     },
     "execution_count": 194,
     "metadata": {},
     "output_type": "execute_result"
    }
   ],
   "source": [
    "# Show first five rows of dataframe\n",
    "player_shooting_stats.head()"
   ]
  },
  {
   "cell_type": "code",
   "execution_count": 223,
   "id": "1b6e886c",
   "metadata": {
    "scrolled": true
   },
   "outputs": [],
   "source": [
    "# Download HTML of shooting page\n",
    "data = requests.get(shooting_url)"
   ]
  },
  {
   "cell_type": "code",
   "execution_count": 225,
   "id": "fe3bbe38",
   "metadata": {
    "scrolled": true
   },
   "outputs": [
    {
     "name": "stderr",
     "output_type": "stream",
     "text": [
      "/var/folders/qq/jf2q9_1s1ln_cgch_rjpr1fm0000gn/T/ipykernel_62175/1542815867.py:2: FutureWarning: Passing literal html to 'read_html' is deprecated and will be removed in a future version. To read from a literal string, wrap it in a 'StringIO' object.\n",
      "  team_shooting_stats = pd.read_html(data.text, match = \"Squad Shooting\")[0]\n"
     ]
    }
   ],
   "source": [
    "# Create dataframe of team shooting stats of first table on the page. Note: could not solve StringIO error-message here.\n",
    "team_shooting_stats = pd.read_html(data.text, match = \"Squad Shooting\")[0]"
   ]
  },
  {
   "cell_type": "code",
   "execution_count": 226,
   "id": "1e90692a",
   "metadata": {},
   "outputs": [],
   "source": [
    "# Drop the first level of the dataframe\n",
    "team_shooting_stats.columns = team_shooting_stats.columns.droplevel()"
   ]
  },
  {
   "cell_type": "code",
   "execution_count": 227,
   "id": "a7d44af5",
   "metadata": {
    "scrolled": true
   },
   "outputs": [
    {
     "data": {
      "text/html": [
       "<div>\n",
       "<style scoped>\n",
       "    .dataframe tbody tr th:only-of-type {\n",
       "        vertical-align: middle;\n",
       "    }\n",
       "\n",
       "    .dataframe tbody tr th {\n",
       "        vertical-align: top;\n",
       "    }\n",
       "\n",
       "    .dataframe thead th {\n",
       "        text-align: right;\n",
       "    }\n",
       "</style>\n",
       "<table border=\"1\" class=\"dataframe\">\n",
       "  <thead>\n",
       "    <tr style=\"text-align: right;\">\n",
       "      <th></th>\n",
       "      <th>Squad</th>\n",
       "      <th># Pl</th>\n",
       "      <th>90s</th>\n",
       "      <th>Gls</th>\n",
       "      <th>Sh</th>\n",
       "      <th>SoT</th>\n",
       "      <th>SoT%</th>\n",
       "      <th>Sh/90</th>\n",
       "      <th>SoT/90</th>\n",
       "      <th>G/Sh</th>\n",
       "      <th>G/SoT</th>\n",
       "      <th>Dist</th>\n",
       "      <th>FK</th>\n",
       "      <th>PK</th>\n",
       "      <th>PKatt</th>\n",
       "      <th>xG</th>\n",
       "      <th>npxG</th>\n",
       "      <th>npxG/Sh</th>\n",
       "      <th>G-xG</th>\n",
       "      <th>np:G-xG</th>\n",
       "    </tr>\n",
       "  </thead>\n",
       "  <tbody>\n",
       "    <tr>\n",
       "      <th>0</th>\n",
       "      <td>Ajax</td>\n",
       "      <td>32</td>\n",
       "      <td>20.0</td>\n",
       "      <td>46</td>\n",
       "      <td>342</td>\n",
       "      <td>134</td>\n",
       "      <td>39.2</td>\n",
       "      <td>17.10</td>\n",
       "      <td>6.70</td>\n",
       "      <td>0.12</td>\n",
       "      <td>0.31</td>\n",
       "      <td>16.6</td>\n",
       "      <td>5</td>\n",
       "      <td>4</td>\n",
       "      <td>5</td>\n",
       "      <td>43.6</td>\n",
       "      <td>39.7</td>\n",
       "      <td>0.12</td>\n",
       "      <td>2.4</td>\n",
       "      <td>2.3</td>\n",
       "    </tr>\n",
       "    <tr>\n",
       "      <th>1</th>\n",
       "      <td>Almere City</td>\n",
       "      <td>26</td>\n",
       "      <td>20.0</td>\n",
       "      <td>20</td>\n",
       "      <td>225</td>\n",
       "      <td>64</td>\n",
       "      <td>28.4</td>\n",
       "      <td>11.25</td>\n",
       "      <td>3.20</td>\n",
       "      <td>0.08</td>\n",
       "      <td>0.28</td>\n",
       "      <td>17.9</td>\n",
       "      <td>8</td>\n",
       "      <td>2</td>\n",
       "      <td>2</td>\n",
       "      <td>23.0</td>\n",
       "      <td>21.4</td>\n",
       "      <td>0.10</td>\n",
       "      <td>-3.0</td>\n",
       "      <td>-3.4</td>\n",
       "    </tr>\n",
       "    <tr>\n",
       "      <th>2</th>\n",
       "      <td>AZ Alkmaar</td>\n",
       "      <td>31</td>\n",
       "      <td>20.0</td>\n",
       "      <td>38</td>\n",
       "      <td>279</td>\n",
       "      <td>101</td>\n",
       "      <td>36.2</td>\n",
       "      <td>13.95</td>\n",
       "      <td>5.05</td>\n",
       "      <td>0.13</td>\n",
       "      <td>0.36</td>\n",
       "      <td>16.7</td>\n",
       "      <td>11</td>\n",
       "      <td>2</td>\n",
       "      <td>2</td>\n",
       "      <td>33.9</td>\n",
       "      <td>32.4</td>\n",
       "      <td>0.12</td>\n",
       "      <td>4.1</td>\n",
       "      <td>3.6</td>\n",
       "    </tr>\n",
       "    <tr>\n",
       "      <th>3</th>\n",
       "      <td>Excelsior</td>\n",
       "      <td>23</td>\n",
       "      <td>20.0</td>\n",
       "      <td>31</td>\n",
       "      <td>218</td>\n",
       "      <td>85</td>\n",
       "      <td>39.0</td>\n",
       "      <td>10.90</td>\n",
       "      <td>4.25</td>\n",
       "      <td>0.14</td>\n",
       "      <td>0.36</td>\n",
       "      <td>16.0</td>\n",
       "      <td>6</td>\n",
       "      <td>0</td>\n",
       "      <td>0</td>\n",
       "      <td>27.1</td>\n",
       "      <td>27.1</td>\n",
       "      <td>0.13</td>\n",
       "      <td>3.9</td>\n",
       "      <td>3.9</td>\n",
       "    </tr>\n",
       "    <tr>\n",
       "      <th>4</th>\n",
       "      <td>Feyenoord</td>\n",
       "      <td>25</td>\n",
       "      <td>20.0</td>\n",
       "      <td>53</td>\n",
       "      <td>403</td>\n",
       "      <td>153</td>\n",
       "      <td>38.0</td>\n",
       "      <td>20.15</td>\n",
       "      <td>7.65</td>\n",
       "      <td>0.13</td>\n",
       "      <td>0.34</td>\n",
       "      <td>16.5</td>\n",
       "      <td>14</td>\n",
       "      <td>1</td>\n",
       "      <td>3</td>\n",
       "      <td>53.7</td>\n",
       "      <td>51.3</td>\n",
       "      <td>0.13</td>\n",
       "      <td>-0.7</td>\n",
       "      <td>0.7</td>\n",
       "    </tr>\n",
       "  </tbody>\n",
       "</table>\n",
       "</div>"
      ],
      "text/plain": [
       "         Squad  # Pl   90s  Gls   Sh  SoT  SoT%  Sh/90  SoT/90  G/Sh  G/SoT  \\\n",
       "0         Ajax    32  20.0   46  342  134  39.2  17.10    6.70  0.12   0.31   \n",
       "1  Almere City    26  20.0   20  225   64  28.4  11.25    3.20  0.08   0.28   \n",
       "2   AZ Alkmaar    31  20.0   38  279  101  36.2  13.95    5.05  0.13   0.36   \n",
       "3    Excelsior    23  20.0   31  218   85  39.0  10.90    4.25  0.14   0.36   \n",
       "4    Feyenoord    25  20.0   53  403  153  38.0  20.15    7.65  0.13   0.34   \n",
       "\n",
       "   Dist  FK  PK  PKatt    xG  npxG  npxG/Sh  G-xG  np:G-xG  \n",
       "0  16.6   5   4      5  43.6  39.7     0.12   2.4      2.3  \n",
       "1  17.9   8   2      2  23.0  21.4     0.10  -3.0     -3.4  \n",
       "2  16.7  11   2      2  33.9  32.4     0.12   4.1      3.6  \n",
       "3  16.0   6   0      0  27.1  27.1     0.13   3.9      3.9  \n",
       "4  16.5  14   1      3  53.7  51.3     0.13  -0.7      0.7  "
      ]
     },
     "execution_count": 227,
     "metadata": {},
     "output_type": "execute_result"
    }
   ],
   "source": [
    "# Show first five rows of dataframe\n",
    "team_shooting_stats.head()"
   ]
  },
  {
   "cell_type": "code",
   "execution_count": null,
   "id": "aef9b6b9",
   "metadata": {},
   "outputs": [],
   "source": [
    "# Merge both dataframes into one dataframe\n"
   ]
  },
  {
   "cell_type": "code",
   "execution_count": null,
   "id": "38c0439c",
   "metadata": {},
   "outputs": [],
   "source": [
    "# Create a loop to add \"team_\" in front of team variables to distinguish between player stats."
   ]
  }
 ],
 "metadata": {
  "kernelspec": {
   "display_name": "Python 3 (ipykernel)",
   "language": "python",
   "name": "python3"
  },
  "language_info": {
   "codemirror_mode": {
    "name": "ipython",
    "version": 3
   },
   "file_extension": ".py",
   "mimetype": "text/x-python",
   "name": "python",
   "nbconvert_exporter": "python",
   "pygments_lexer": "ipython3",
   "version": "3.11.5"
  }
 },
 "nbformat": 4,
 "nbformat_minor": 5
}
